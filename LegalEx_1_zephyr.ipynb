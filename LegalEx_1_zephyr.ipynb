{
  "cells": [
    {
      "cell_type": "code",
      "execution_count": null,
      "metadata": {
        "id": "orDf8yWho4ER",
        "colab": {
          "base_uri": "https://localhost:8080/"
        },
        "outputId": "2204afc9-9f92-4971-c788-cb7b2296751e"
      },
      "outputs": [
        {
          "output_type": "stream",
          "name": "stdout",
          "text": [
            "Collecting llama-cpp-python\n",
            "  Downloading llama_cpp_python-0.2.18.tar.gz (7.8 MB)\n",
            "\u001b[?25l     \u001b[90m━━━━━━━━━━━━━━━━━━━━━━━━━━━━━━━━━━━━━━━━\u001b[0m \u001b[32m0.0/7.8 MB\u001b[0m \u001b[31m?\u001b[0m eta \u001b[36m-:--:--\u001b[0m\r\u001b[2K     \u001b[90m━━━━━━━━━━━━━━━━━━━━━━━━━━━━━━━━━━━━━━━━\u001b[0m \u001b[32m0.1/7.8 MB\u001b[0m \u001b[31m3.2 MB/s\u001b[0m eta \u001b[36m0:00:03\u001b[0m\r\u001b[2K     \u001b[91m━━━━━━━━━━\u001b[0m\u001b[91m╸\u001b[0m\u001b[90m━━━━━━━━━━━━━━━━━━━━━━━━━━━━━\u001b[0m \u001b[32m2.1/7.8 MB\u001b[0m \u001b[31m34.8 MB/s\u001b[0m eta \u001b[36m0:00:01\u001b[0m\r\u001b[2K     \u001b[91m━━━━━━━━━━━━━━━━━━━━━━━━━━━━━━━━\u001b[0m\u001b[90m╺\u001b[0m\u001b[90m━━━━━━━\u001b[0m \u001b[32m6.3/7.8 MB\u001b[0m \u001b[31m66.5 MB/s\u001b[0m eta \u001b[36m0:00:01\u001b[0m\r\u001b[2K     \u001b[91m━━━━━━━━━━━━━━━━━━━━━━━━━━━━━━━━━━━━━━━\u001b[0m\u001b[91m╸\u001b[0m \u001b[32m7.8/7.8 MB\u001b[0m \u001b[31m73.4 MB/s\u001b[0m eta \u001b[36m0:00:01\u001b[0m\r\u001b[2K     \u001b[90m━━━━━━━━━━━━━━━━━━━━━━━━━━━━━━━━━━━━━━━━\u001b[0m \u001b[32m7.8/7.8 MB\u001b[0m \u001b[31m57.1 MB/s\u001b[0m eta \u001b[36m0:00:00\u001b[0m\n",
            "\u001b[?25h  Installing build dependencies ... \u001b[?25l\u001b[?25hdone\n",
            "  Getting requirements to build wheel ... \u001b[?25l\u001b[?25hdone\n",
            "  Installing backend dependencies ... \u001b[?25l\u001b[?25hdone\n",
            "  Preparing metadata (pyproject.toml) ... \u001b[?25l\u001b[?25hdone\n",
            "Requirement already satisfied: typing-extensions>=4.5.0 in /usr/local/lib/python3.10/dist-packages (from llama-cpp-python) (4.5.0)\n",
            "Requirement already satisfied: numpy>=1.20.0 in /usr/local/lib/python3.10/dist-packages (from llama-cpp-python) (1.23.5)\n",
            "Requirement already satisfied: diskcache>=5.6.1 in /usr/local/lib/python3.10/dist-packages (from llama-cpp-python) (5.6.3)\n",
            "Building wheels for collected packages: llama-cpp-python\n",
            "  Building wheel for llama-cpp-python (pyproject.toml) ... \u001b[?25l\u001b[?25hdone\n",
            "  Created wheel for llama-cpp-python: filename=llama_cpp_python-0.2.18-cp310-cp310-manylinux_2_35_x86_64.whl size=7069374 sha256=89cd26110ce3197d1f0dac29d67f650f1fa34f290abd816205e0f5f82acf808f\n",
            "  Stored in directory: /root/.cache/pip/wheels/75/65/c3/54e9fca551b4734cc17f41fafb596a7807312fb470c806e1ab\n",
            "Successfully built llama-cpp-python\n",
            "Installing collected packages: llama-cpp-python\n",
            "Successfully installed llama-cpp-python-0.2.18\n",
            "Collecting llama-index\n",
            "  Downloading llama_index-0.9.1-py3-none-any.whl (874 kB)\n",
            "\u001b[2K     \u001b[90m━━━━━━━━━━━━━━━━━━━━━━━━━━━━━━━━━━━━━━━━\u001b[0m \u001b[32m874.2/874.2 kB\u001b[0m \u001b[31m19.3 MB/s\u001b[0m eta \u001b[36m0:00:00\u001b[0m\n",
            "\u001b[?25hRequirement already satisfied: SQLAlchemy[asyncio]>=1.4.49 in /usr/local/lib/python3.10/dist-packages (from llama-index) (2.0.23)\n",
            "Collecting aiostream<0.6.0,>=0.5.2 (from llama-index)\n",
            "  Downloading aiostream-0.5.2-py3-none-any.whl (39 kB)\n",
            "Collecting beautifulsoup4<5.0.0,>=4.12.2 (from llama-index)\n",
            "  Downloading beautifulsoup4-4.12.2-py3-none-any.whl (142 kB)\n",
            "\u001b[2K     \u001b[90m━━━━━━━━━━━━━━━━━━━━━━━━━━━━━━━━━━━━━━━━\u001b[0m \u001b[32m143.0/143.0 kB\u001b[0m \u001b[31m22.3 MB/s\u001b[0m eta \u001b[36m0:00:00\u001b[0m\n",
            "\u001b[?25hCollecting dataclasses-json<0.6.0,>=0.5.7 (from llama-index)\n",
            "  Downloading dataclasses_json-0.5.14-py3-none-any.whl (26 kB)\n",
            "Collecting deprecated>=1.2.9.3 (from llama-index)\n",
            "  Downloading Deprecated-1.2.14-py2.py3-none-any.whl (9.6 kB)\n",
            "Requirement already satisfied: fsspec>=2023.5.0 in /usr/local/lib/python3.10/dist-packages (from llama-index) (2023.6.0)\n",
            "Collecting httpx (from llama-index)\n",
            "  Downloading httpx-0.25.1-py3-none-any.whl (75 kB)\n",
            "\u001b[2K     \u001b[90m━━━━━━━━━━━━━━━━━━━━━━━━━━━━━━━━━━━━━━━━\u001b[0m \u001b[32m75.0/75.0 kB\u001b[0m \u001b[31m12.1 MB/s\u001b[0m eta \u001b[36m0:00:00\u001b[0m\n",
            "\u001b[?25hRequirement already satisfied: nest-asyncio<2.0.0,>=1.5.8 in /usr/local/lib/python3.10/dist-packages (from llama-index) (1.5.8)\n",
            "Requirement already satisfied: nltk<4.0.0,>=3.8.1 in /usr/local/lib/python3.10/dist-packages (from llama-index) (3.8.1)\n",
            "Requirement already satisfied: numpy in /usr/local/lib/python3.10/dist-packages (from llama-index) (1.23.5)\n",
            "Collecting openai>=1.1.0 (from llama-index)\n",
            "  Downloading openai-1.3.0-py3-none-any.whl (220 kB)\n",
            "\u001b[2K     \u001b[90m━━━━━━━━━━━━━━━━━━━━━━━━━━━━━━━━━━━━━━━━\u001b[0m \u001b[32m220.3/220.3 kB\u001b[0m \u001b[31m32.3 MB/s\u001b[0m eta \u001b[36m0:00:00\u001b[0m\n",
            "\u001b[?25hRequirement already satisfied: pandas in /usr/local/lib/python3.10/dist-packages (from llama-index) (1.5.3)\n",
            "Requirement already satisfied: tenacity<9.0.0,>=8.2.0 in /usr/local/lib/python3.10/dist-packages (from llama-index) (8.2.3)\n",
            "Collecting tiktoken>=0.3.3 (from llama-index)\n",
            "  Downloading tiktoken-0.5.1-cp310-cp310-manylinux_2_17_x86_64.manylinux2014_x86_64.whl (2.0 MB)\n",
            "\u001b[2K     \u001b[90m━━━━━━━━━━━━━━━━━━━━━━━━━━━━━━━━━━━━━━━━\u001b[0m \u001b[32m2.0/2.0 MB\u001b[0m \u001b[31m79.1 MB/s\u001b[0m eta \u001b[36m0:00:00\u001b[0m\n",
            "\u001b[?25hRequirement already satisfied: typing-extensions>=4.5.0 in /usr/local/lib/python3.10/dist-packages (from llama-index) (4.5.0)\n",
            "Collecting typing-inspect>=0.8.0 (from llama-index)\n",
            "  Downloading typing_inspect-0.9.0-py3-none-any.whl (8.8 kB)\n",
            "Collecting urllib3<2 (from llama-index)\n",
            "  Downloading urllib3-1.26.18-py2.py3-none-any.whl (143 kB)\n",
            "\u001b[2K     \u001b[90m━━━━━━━━━━━━━━━━━━━━━━━━━━━━━━━━━━━━━━━━\u001b[0m \u001b[32m143.8/143.8 kB\u001b[0m \u001b[31m21.9 MB/s\u001b[0m eta \u001b[36m0:00:00\u001b[0m\n",
            "\u001b[?25hRequirement already satisfied: soupsieve>1.2 in /usr/local/lib/python3.10/dist-packages (from beautifulsoup4<5.0.0,>=4.12.2->llama-index) (2.5)\n",
            "Collecting marshmallow<4.0.0,>=3.18.0 (from dataclasses-json<0.6.0,>=0.5.7->llama-index)\n",
            "  Downloading marshmallow-3.20.1-py3-none-any.whl (49 kB)\n",
            "\u001b[2K     \u001b[90m━━━━━━━━━━━━━━━━━━━━━━━━━━━━━━━━━━━━━━━━\u001b[0m \u001b[32m49.4/49.4 kB\u001b[0m \u001b[31m4.0 MB/s\u001b[0m eta \u001b[36m0:00:00\u001b[0m\n",
            "\u001b[?25hRequirement already satisfied: wrapt<2,>=1.10 in /usr/local/lib/python3.10/dist-packages (from deprecated>=1.2.9.3->llama-index) (1.14.1)\n",
            "Requirement already satisfied: click in /usr/local/lib/python3.10/dist-packages (from nltk<4.0.0,>=3.8.1->llama-index) (8.1.7)\n",
            "Requirement already satisfied: joblib in /usr/local/lib/python3.10/dist-packages (from nltk<4.0.0,>=3.8.1->llama-index) (1.3.2)\n",
            "Requirement already satisfied: regex>=2021.8.3 in /usr/local/lib/python3.10/dist-packages (from nltk<4.0.0,>=3.8.1->llama-index) (2023.6.3)\n",
            "Requirement already satisfied: tqdm in /usr/local/lib/python3.10/dist-packages (from nltk<4.0.0,>=3.8.1->llama-index) (4.66.1)\n",
            "Requirement already satisfied: anyio<4,>=3.5.0 in /usr/local/lib/python3.10/dist-packages (from openai>=1.1.0->llama-index) (3.7.1)\n",
            "Requirement already satisfied: distro<2,>=1.7.0 in /usr/lib/python3/dist-packages (from openai>=1.1.0->llama-index) (1.7.0)\n",
            "Requirement already satisfied: pydantic<3,>=1.9.0 in /usr/local/lib/python3.10/dist-packages (from openai>=1.1.0->llama-index) (1.10.13)\n",
            "Requirement already satisfied: certifi in /usr/local/lib/python3.10/dist-packages (from httpx->llama-index) (2023.7.22)\n",
            "Collecting httpcore (from httpx->llama-index)\n",
            "  Downloading httpcore-1.0.2-py3-none-any.whl (76 kB)\n",
            "\u001b[2K     \u001b[90m━━━━━━━━━━━━━━━━━━━━━━━━━━━━━━━━━━━━━━━━\u001b[0m \u001b[32m76.9/76.9 kB\u001b[0m \u001b[31m12.9 MB/s\u001b[0m eta \u001b[36m0:00:00\u001b[0m\n",
            "\u001b[?25hRequirement already satisfied: idna in /usr/local/lib/python3.10/dist-packages (from httpx->llama-index) (3.4)\n",
            "Requirement already satisfied: sniffio in /usr/local/lib/python3.10/dist-packages (from httpx->llama-index) (1.3.0)\n",
            "Requirement already satisfied: greenlet!=0.4.17 in /usr/local/lib/python3.10/dist-packages (from SQLAlchemy[asyncio]>=1.4.49->llama-index) (3.0.1)\n",
            "Requirement already satisfied: requests>=2.26.0 in /usr/local/lib/python3.10/dist-packages (from tiktoken>=0.3.3->llama-index) (2.31.0)\n",
            "Collecting mypy-extensions>=0.3.0 (from typing-inspect>=0.8.0->llama-index)\n",
            "  Downloading mypy_extensions-1.0.0-py3-none-any.whl (4.7 kB)\n",
            "Requirement already satisfied: python-dateutil>=2.8.1 in /usr/local/lib/python3.10/dist-packages (from pandas->llama-index) (2.8.2)\n",
            "Requirement already satisfied: pytz>=2020.1 in /usr/local/lib/python3.10/dist-packages (from pandas->llama-index) (2023.3.post1)\n",
            "Requirement already satisfied: exceptiongroup in /usr/local/lib/python3.10/dist-packages (from anyio<4,>=3.5.0->openai>=1.1.0->llama-index) (1.1.3)\n",
            "Requirement already satisfied: packaging>=17.0 in /usr/local/lib/python3.10/dist-packages (from marshmallow<4.0.0,>=3.18.0->dataclasses-json<0.6.0,>=0.5.7->llama-index) (23.2)\n",
            "Requirement already satisfied: six>=1.5 in /usr/local/lib/python3.10/dist-packages (from python-dateutil>=2.8.1->pandas->llama-index) (1.16.0)\n",
            "Requirement already satisfied: charset-normalizer<4,>=2 in /usr/local/lib/python3.10/dist-packages (from requests>=2.26.0->tiktoken>=0.3.3->llama-index) (3.3.2)\n",
            "Collecting h11<0.15,>=0.13 (from httpcore->httpx->llama-index)\n",
            "  Downloading h11-0.14.0-py3-none-any.whl (58 kB)\n",
            "\u001b[2K     \u001b[90m━━━━━━━━━━━━━━━━━━━━━━━━━━━━━━━━━━━━━━━━\u001b[0m \u001b[32m58.3/58.3 kB\u001b[0m \u001b[31m9.2 MB/s\u001b[0m eta \u001b[36m0:00:00\u001b[0m\n",
            "\u001b[?25hInstalling collected packages: urllib3, mypy-extensions, marshmallow, h11, deprecated, beautifulsoup4, aiostream, typing-inspect, httpcore, tiktoken, httpx, dataclasses-json, openai, llama-index\n",
            "  Attempting uninstall: urllib3\n",
            "    Found existing installation: urllib3 2.0.7\n",
            "    Uninstalling urllib3-2.0.7:\n",
            "      Successfully uninstalled urllib3-2.0.7\n",
            "  Attempting uninstall: beautifulsoup4\n",
            "    Found existing installation: beautifulsoup4 4.11.2\n",
            "    Uninstalling beautifulsoup4-4.11.2:\n",
            "      Successfully uninstalled beautifulsoup4-4.11.2\n",
            "\u001b[31mERROR: pip's dependency resolver does not currently take into account all the packages that are installed. This behaviour is the source of the following dependency conflicts.\n",
            "llmx 0.0.15a0 requires cohere, which is not installed.\u001b[0m\u001b[31m\n",
            "\u001b[0mSuccessfully installed aiostream-0.5.2 beautifulsoup4-4.12.2 dataclasses-json-0.5.14 deprecated-1.2.14 h11-0.14.0 httpcore-1.0.2 httpx-0.25.1 llama-index-0.9.1 marshmallow-3.20.1 mypy-extensions-1.0.0 openai-1.3.0 tiktoken-0.5.1 typing-inspect-0.9.0 urllib3-1.26.18\n",
            "Collecting transformers\n",
            "  Downloading transformers-4.35.2-py3-none-any.whl (7.9 MB)\n",
            "\u001b[2K     \u001b[90m━━━━━━━━━━━━━━━━━━━━━━━━━━━━━━━━━━━━━━━━\u001b[0m \u001b[32m7.9/7.9 MB\u001b[0m \u001b[31m65.2 MB/s\u001b[0m eta \u001b[36m0:00:00\u001b[0m\n",
            "\u001b[?25hCollecting accelerate\n",
            "  Downloading accelerate-0.24.1-py3-none-any.whl (261 kB)\n",
            "\u001b[2K     \u001b[90m━━━━━━━━━━━━━━━━━━━━━━━━━━━━━━━━━━━━━━━━\u001b[0m \u001b[32m261.4/261.4 kB\u001b[0m \u001b[31m34.0 MB/s\u001b[0m eta \u001b[36m0:00:00\u001b[0m\n",
            "\u001b[?25hCollecting bitsandbytes\n",
            "  Downloading bitsandbytes-0.41.2.post2-py3-none-any.whl (92.6 MB)\n",
            "\u001b[2K     \u001b[90m━━━━━━━━━━━━━━━━━━━━━━━━━━━━━━━━━━━━━━━━\u001b[0m \u001b[32m92.6/92.6 MB\u001b[0m \u001b[31m9.1 MB/s\u001b[0m eta \u001b[36m0:00:00\u001b[0m\n",
            "\u001b[?25hRequirement already satisfied: filelock in /usr/local/lib/python3.10/dist-packages (from transformers) (3.13.1)\n",
            "Collecting huggingface-hub<1.0,>=0.16.4 (from transformers)\n",
            "  Downloading huggingface_hub-0.19.4-py3-none-any.whl (311 kB)\n",
            "\u001b[2K     \u001b[90m━━━━━━━━━━━━━━━━━━━━━━━━━━━━━━━━━━━━━━━━\u001b[0m \u001b[32m311.7/311.7 kB\u001b[0m \u001b[31m42.0 MB/s\u001b[0m eta \u001b[36m0:00:00\u001b[0m\n",
            "\u001b[?25hRequirement already satisfied: numpy>=1.17 in /usr/local/lib/python3.10/dist-packages (from transformers) (1.23.5)\n",
            "Requirement already satisfied: packaging>=20.0 in /usr/local/lib/python3.10/dist-packages (from transformers) (23.2)\n",
            "Requirement already satisfied: pyyaml>=5.1 in /usr/local/lib/python3.10/dist-packages (from transformers) (6.0.1)\n",
            "Requirement already satisfied: regex!=2019.12.17 in /usr/local/lib/python3.10/dist-packages (from transformers) (2023.6.3)\n",
            "Requirement already satisfied: requests in /usr/local/lib/python3.10/dist-packages (from transformers) (2.31.0)\n",
            "Collecting tokenizers<0.19,>=0.14 (from transformers)\n",
            "  Downloading tokenizers-0.15.0-cp310-cp310-manylinux_2_17_x86_64.manylinux2014_x86_64.whl (3.8 MB)\n",
            "\u001b[2K     \u001b[90m━━━━━━━━━━━━━━━━━━━━━━━━━━━━━━━━━━━━━━━━\u001b[0m \u001b[32m3.8/3.8 MB\u001b[0m \u001b[31m108.7 MB/s\u001b[0m eta \u001b[36m0:00:00\u001b[0m\n",
            "\u001b[?25hCollecting safetensors>=0.3.1 (from transformers)\n",
            "  Downloading safetensors-0.4.0-cp310-cp310-manylinux_2_17_x86_64.manylinux2014_x86_64.whl (1.3 MB)\n",
            "\u001b[2K     \u001b[90m━━━━━━━━━━━━━━━━━━━━━━━━━━━━━━━━━━━━━━━━\u001b[0m \u001b[32m1.3/1.3 MB\u001b[0m \u001b[31m89.4 MB/s\u001b[0m eta \u001b[36m0:00:00\u001b[0m\n",
            "\u001b[?25hRequirement already satisfied: tqdm>=4.27 in /usr/local/lib/python3.10/dist-packages (from transformers) (4.66.1)\n",
            "Requirement already satisfied: psutil in /usr/local/lib/python3.10/dist-packages (from accelerate) (5.9.5)\n",
            "Requirement already satisfied: torch>=1.10.0 in /usr/local/lib/python3.10/dist-packages (from accelerate) (2.1.0+cu118)\n",
            "Requirement already satisfied: fsspec>=2023.5.0 in /usr/local/lib/python3.10/dist-packages (from huggingface-hub<1.0,>=0.16.4->transformers) (2023.6.0)\n",
            "Requirement already satisfied: typing-extensions>=3.7.4.3 in /usr/local/lib/python3.10/dist-packages (from huggingface-hub<1.0,>=0.16.4->transformers) (4.5.0)\n",
            "Requirement already satisfied: sympy in /usr/local/lib/python3.10/dist-packages (from torch>=1.10.0->accelerate) (1.12)\n",
            "Requirement already satisfied: networkx in /usr/local/lib/python3.10/dist-packages (from torch>=1.10.0->accelerate) (3.2.1)\n",
            "Requirement already satisfied: jinja2 in /usr/local/lib/python3.10/dist-packages (from torch>=1.10.0->accelerate) (3.1.2)\n",
            "Requirement already satisfied: triton==2.1.0 in /usr/local/lib/python3.10/dist-packages (from torch>=1.10.0->accelerate) (2.1.0)\n",
            "Requirement already satisfied: charset-normalizer<4,>=2 in /usr/local/lib/python3.10/dist-packages (from requests->transformers) (3.3.2)\n",
            "Requirement already satisfied: idna<4,>=2.5 in /usr/local/lib/python3.10/dist-packages (from requests->transformers) (3.4)\n",
            "Requirement already satisfied: urllib3<3,>=1.21.1 in /usr/local/lib/python3.10/dist-packages (from requests->transformers) (1.26.18)\n",
            "Requirement already satisfied: certifi>=2017.4.17 in /usr/local/lib/python3.10/dist-packages (from requests->transformers) (2023.7.22)\n",
            "Requirement already satisfied: MarkupSafe>=2.0 in /usr/local/lib/python3.10/dist-packages (from jinja2->torch>=1.10.0->accelerate) (2.1.3)\n",
            "Requirement already satisfied: mpmath>=0.19 in /usr/local/lib/python3.10/dist-packages (from sympy->torch>=1.10.0->accelerate) (1.3.0)\n",
            "Installing collected packages: bitsandbytes, safetensors, huggingface-hub, tokenizers, accelerate, transformers\n",
            "Successfully installed accelerate-0.24.1 bitsandbytes-0.41.2.post2 huggingface-hub-0.19.4 safetensors-0.4.0 tokenizers-0.15.0 transformers-4.35.2\n"
          ]
        }
      ],
      "source": [
        "# !CMAKE_ARGS=\"-DLLAMA_CUBLAS=on\" pip install llama-cpp-python\n",
        "!pip install llama-index\n",
        "!pip install transformers accelerate bitsandbytes"
      ]
    },
    {
      "cell_type": "code",
      "source": [
        "!git clone https://github.com/PratyushChauhan/law_predictions.git"
      ],
      "metadata": {
        "colab": {
          "base_uri": "https://localhost:8080/"
        },
        "id": "EqkGvgz5OULN",
        "outputId": "7d1a58fd-7faa-4c8c-c7ca-11e4c0f70350"
      },
      "execution_count": null,
      "outputs": [
        {
          "output_type": "stream",
          "name": "stdout",
          "text": [
            "fatal: destination path 'law_predictions' already exists and is not an empty directory.\n"
          ]
        }
      ]
    },
    {
      "cell_type": "code",
      "source": [
        "!git clone https://github.com/PratyushChauhan/law_dataset.git\n"
      ],
      "metadata": {
        "colab": {
          "base_uri": "https://localhost:8080/"
        },
        "id": "8APTpRxvhmnq",
        "outputId": "cd25fb27-ac14-4719-f16b-fe632f84a2bb"
      },
      "execution_count": null,
      "outputs": [
        {
          "output_type": "stream",
          "name": "stdout",
          "text": [
            "Cloning into 'law_dataset'...\n",
            "remote: Enumerating objects: 16539, done.\u001b[K\n",
            "remote: Total 16539 (delta 0), reused 0 (delta 0), pack-reused 16539\u001b[K\n",
            "Receiving objects: 100% (16539/16539), 86.09 MiB | 15.94 MiB/s, done.\n",
            "Resolving deltas: 100% (995/995), done.\n",
            "Updating files: 100% (16776/16776), done.\n"
          ]
        }
      ]
    },
    {
      "cell_type": "code",
      "source": [
        "# !rm ./law_dataset/IN-Abs/test-data/summary/7*.txt\n",
        "!ls ./law_dataset/IN-Abs/test-data/summary/"
      ],
      "metadata": {
        "colab": {
          "base_uri": "https://localhost:8080/"
        },
        "id": "vPYz00d1i98o",
        "outputId": "77b3a278-e791-4b06-fec8-9a9c6eb1d957"
      },
      "execution_count": null,
      "outputs": [
        {
          "output_type": "stream",
          "name": "stdout",
          "text": [
            "1181.txt  1789.txt  2304.txt  2727.txt\t3442.txt  415.txt   4938.txt  5538.txt\t6245.txt  6728.txt\n",
            "1195.txt  1974.txt  232.txt   2796.txt\t3531.txt  4316.txt  4963.txt  5597.txt\t6270.txt  6778.txt\n",
            "1329.txt  2035.txt  2392.txt  2913.txt\t3542.txt  4451.txt  496.txt   5707.txt\t6276.txt  6852.txt\n",
            "1378.txt  2052.txt  2440.txt  3019.txt\t3602.txt  4480.txt  5141.txt  5861.txt\t6413.txt  6881.txt\n",
            "1406.txt  2065.txt  2593.txt  314.txt\t362.txt   4568.txt  5142.txt  5888.txt\t6521.txt  690.txt\n",
            "1522.txt  2122.txt  2609.txt  3168.txt\t380.txt   4641.txt  5248.txt  5937.txt\t652.txt   7109.txt\n",
            "1531.txt  2124.txt  2627.txt  3210.txt\t3844.txt  4782.txt  5266.txt  5994.txt\t660.txt   7130.txt\n",
            "1697.txt  2207.txt  2649.txt  3292.txt\t3893.txt  4807.txt  5364.txt  6003.txt\t6622.txt  715.txt\n",
            "1762.txt  2248.txt  2657.txt  3356.txt\t3924.txt  4860.txt  5397.txt  6118.txt\t6647.txt  784.txt\n",
            "1778.txt  2256.txt  266.txt   3436.txt\t4071.txt  4917.txt  5471.txt  6157.txt\t6668.txt  78.txt\n"
          ]
        }
      ]
    },
    {
      "cell_type": "markdown",
      "source": [
        "<h1>initialize llm zephyr</h1>"
      ],
      "metadata": {
        "id": "ZzWens79HMIZ"
      }
    },
    {
      "cell_type": "code",
      "source": [
        "from pprint import pprint"
      ],
      "metadata": {
        "id": "jHZfpQKSZyuE"
      },
      "execution_count": null,
      "outputs": []
    },
    {
      "cell_type": "code",
      "source": [
        "# import os\n",
        "\n",
        "# # Directory path where your .txt files are located\n",
        "# directory_path = './law_dataset/IN-Abs/test-data/summary/'\n",
        "\n",
        "# # List all .txt files in the directory\n",
        "# txt_files = [f for f in os.listdir(directory_path) if f.endswith('.txt')]\n",
        "\n",
        "# # Sort the list of files to maintain order\n",
        "\n",
        "\n",
        "# # Create a combined.txt file to write the flattened data\n",
        "# with open(os.path.join(directory_path, 'combined.txt'), 'w') as combined_file:\n",
        "#     # Iterate through each .txt file\n",
        "#     for txt_file in txt_files:\n",
        "#         with open(os.path.join(directory_path, txt_file), 'r') as file:\n",
        "#             # Read and flatten the content of the file into one line\n",
        "#             flattened_data = file.read().replace('\\n', ' ')\n",
        "#             # Write the flattened data to the combined file\n",
        "#             combined_file.write(flattened_data + '\\n')\n",
        "\n",
        "# print(\"Flattened data from all files has been written to combined.txt\")\n"
      ],
      "metadata": {
        "id": "t-bX0zJxmbFZ"
      },
      "execution_count": null,
      "outputs": []
    },
    {
      "cell_type": "code",
      "source": [
        "import torch\n",
        "from transformers import BitsAndBytesConfig\n",
        "from llama_index.prompts import PromptTemplate\n",
        "from llama_index.llms import HuggingFaceLLM\n",
        "\n",
        "quantization_config = BitsAndBytesConfig(\n",
        "    load_in_4bit=True,\n",
        "    bnb_4bit_compute_dtype=torch.float16,\n",
        "    bnb_4bit_quant_type=\"nf4\",\n",
        "    bnb_4bit_use_double_quant=True,\n",
        ")\n",
        "\n",
        "\n",
        "def messages_to_prompt(messages):\n",
        "  prompt = \"\"\n",
        "  for message in messages:\n",
        "    if message.role == 'system':\n",
        "      prompt += f\"<|system|>\\n{message.content}</s>\\n\"\n",
        "    elif message.role == 'user':\n",
        "      prompt += f\"<|user|>\\n{message.content}</s>\\n\"\n",
        "    elif message.role == 'assistant':\n",
        "      prompt += f\"<|assistant|>\\n{message.content}</s>\\n\"\n",
        "\n",
        "  # ensure we start with a system prompt, insert blank if needed\n",
        "  if not prompt.startswith(\"<|system|>\\n\"):\n",
        "    prompt = \"<|system|>\\n</s>\\n\" + prompt\n",
        "\n",
        "  # add final assistant prompt\n",
        "  prompt = prompt + \"<|assistant|>\\n\"\n",
        "\n",
        "  return prompt\n",
        "\n",
        "\n",
        "llm = HuggingFaceLLM(\n",
        "    model_name=\"HuggingFaceH4/zephyr-7b-beta\",\n",
        "    tokenizer_name=\"HuggingFaceH4/zephyr-7b-beta\",\n",
        "    query_wrapper_prompt=PromptTemplate(\"<|system|>\\n</s>\\n<|user|>\\n{query_str}</s>\\n<|assistant|>\\n\"),\n",
        "    context_window=5000,\n",
        "    max_new_tokens=1000,\n",
        "    model_kwargs={\"quantization_config\": quantization_config},\n",
        "    # tokenizer_kwargs={},\n",
        "    generate_kwargs={\"temperature\": 0.7, \"top_k\": 50, \"top_p\": 0.95},\n",
        "    messages_to_prompt=messages_to_prompt,\n",
        "    device_map=\"auto\",\n",
        ")"
      ],
      "metadata": {
        "colab": {
          "base_uri": "https://localhost:8080/",
          "height": 49,
          "referenced_widgets": [
            "c9da6fad974b4ed28abc808d4fb6104e",
            "ad712158af13465db5db4943c4c563a1",
            "c1a9d3d4d1bf4610abeda4782ef42860",
            "7c16d6a3f26d469783e58adfb581db96",
            "2a8320aa03ea491b8f20cbf4f423adeb",
            "60b22bbfb8ca4a45b783454e1fa7cf73",
            "1b8ecb80179c4199b9983ab03443100d",
            "db326fbe6c7f42bea5c63138a12981e4",
            "bd221817290d46d1bee3508d0e4a6d09",
            "a3a445680804481980b6fa548c28a7fe",
            "4d5af1c743124205b1ac221d27afa3f1"
          ]
        },
        "id": "cTlUXUHSHJDj",
        "outputId": "99f5d3d8-6120-4149-8966-6cc99f6e8ed3"
      },
      "execution_count": null,
      "outputs": [
        {
          "output_type": "display_data",
          "data": {
            "text/plain": [
              "Loading checkpoint shards:   0%|          | 0/8 [00:00<?, ?it/s]"
            ],
            "application/vnd.jupyter.widget-view+json": {
              "version_major": 2,
              "version_minor": 0,
              "model_id": "c9da6fad974b4ed28abc808d4fb6104e"
            }
          },
          "metadata": {}
        }
      ]
    },
    {
      "cell_type": "markdown",
      "source": [
        "<h1>Parse Documents</h1>"
      ],
      "metadata": {
        "id": "BAWT7aqz48Df"
      }
    },
    {
      "cell_type": "code",
      "execution_count": null,
      "metadata": {
        "id": "5Te1n82T33O8"
      },
      "outputs": [],
      "source": [
        "from llama_index import ServiceContext\n",
        "\n",
        "dir = './law_dataset/IN-Abs/test-data/judgement'\n",
        "\n",
        "service_context = ServiceContext.from_defaults(llm=llm, embed_model=\"local:BAAI/bge-small-en-v1.5\",chunk_size=1024)\n",
        "\n"
      ]
    },
    {
      "cell_type": "code",
      "execution_count": null,
      "metadata": {
        "id": "CxI4IpROw3GQ"
      },
      "outputs": [],
      "source": [
        "from llama_index.response.notebook_utils import display_response"
      ]
    },
    {
      "cell_type": "code",
      "execution_count": null,
      "metadata": {
        "id": "xpzbKE_e1izD"
      },
      "outputs": [],
      "source": [
        "import logging\n",
        "import sys\n",
        "\n",
        "logging.basicConfig(stream=sys.stdout, level=logging.INFO)\n",
        "logging.getLogger().addHandler(logging.StreamHandler(stream=sys.stdout))"
      ]
    },
    {
      "cell_type": "code",
      "source": [
        "import nest_asyncio\n",
        "nest_asyncio.apply()"
      ],
      "metadata": {
        "id": "YyRyhQLpIuRH"
      },
      "execution_count": null,
      "outputs": []
    },
    {
      "cell_type": "code",
      "source": [
        "!pip install bert_score"
      ],
      "metadata": {
        "id": "5XKIKINzxz0Z",
        "colab": {
          "base_uri": "https://localhost:8080/"
        },
        "outputId": "7f11ace9-8f87-45da-c220-16d00c102826"
      },
      "execution_count": null,
      "outputs": [
        {
          "output_type": "stream",
          "name": "stdout",
          "text": [
            "Collecting bert_score\n",
            "  Downloading bert_score-0.3.13-py3-none-any.whl (61 kB)\n",
            "\u001b[?25l     \u001b[90m━━━━━━━━━━━━━━━━━━━━━━━━━━━━━━━━━━━━━━━━\u001b[0m \u001b[32m0.0/61.1 kB\u001b[0m \u001b[31m?\u001b[0m eta \u001b[36m-:--:--\u001b[0m\r\u001b[2K     \u001b[90m━━━━━━━━━━━━━━━━━━━━━━━━━━━━━━━━━━━━━━━━\u001b[0m \u001b[32m61.1/61.1 kB\u001b[0m \u001b[31m1.8 MB/s\u001b[0m eta \u001b[36m0:00:00\u001b[0m\n",
            "\u001b[?25hRequirement already satisfied: torch>=1.0.0 in /usr/local/lib/python3.10/dist-packages (from bert_score) (2.1.0+cu118)\n",
            "Requirement already satisfied: pandas>=1.0.1 in /usr/local/lib/python3.10/dist-packages (from bert_score) (1.5.3)\n",
            "Requirement already satisfied: transformers>=3.0.0 in /usr/local/lib/python3.10/dist-packages (from bert_score) (4.35.2)\n",
            "Requirement already satisfied: numpy in /usr/local/lib/python3.10/dist-packages (from bert_score) (1.23.5)\n",
            "Requirement already satisfied: requests in /usr/local/lib/python3.10/dist-packages (from bert_score) (2.31.0)\n",
            "Requirement already satisfied: tqdm>=4.31.1 in /usr/local/lib/python3.10/dist-packages (from bert_score) (4.66.1)\n",
            "Requirement already satisfied: matplotlib in /usr/local/lib/python3.10/dist-packages (from bert_score) (3.7.1)\n",
            "Requirement already satisfied: packaging>=20.9 in /usr/local/lib/python3.10/dist-packages (from bert_score) (23.2)\n",
            "Requirement already satisfied: python-dateutil>=2.8.1 in /usr/local/lib/python3.10/dist-packages (from pandas>=1.0.1->bert_score) (2.8.2)\n",
            "Requirement already satisfied: pytz>=2020.1 in /usr/local/lib/python3.10/dist-packages (from pandas>=1.0.1->bert_score) (2023.3.post1)\n",
            "Requirement already satisfied: filelock in /usr/local/lib/python3.10/dist-packages (from torch>=1.0.0->bert_score) (3.13.1)\n",
            "Requirement already satisfied: typing-extensions in /usr/local/lib/python3.10/dist-packages (from torch>=1.0.0->bert_score) (4.5.0)\n",
            "Requirement already satisfied: sympy in /usr/local/lib/python3.10/dist-packages (from torch>=1.0.0->bert_score) (1.12)\n",
            "Requirement already satisfied: networkx in /usr/local/lib/python3.10/dist-packages (from torch>=1.0.0->bert_score) (3.2.1)\n",
            "Requirement already satisfied: jinja2 in /usr/local/lib/python3.10/dist-packages (from torch>=1.0.0->bert_score) (3.1.2)\n",
            "Requirement already satisfied: fsspec in /usr/local/lib/python3.10/dist-packages (from torch>=1.0.0->bert_score) (2023.6.0)\n",
            "Requirement already satisfied: triton==2.1.0 in /usr/local/lib/python3.10/dist-packages (from torch>=1.0.0->bert_score) (2.1.0)\n",
            "Requirement already satisfied: huggingface-hub<1.0,>=0.16.4 in /usr/local/lib/python3.10/dist-packages (from transformers>=3.0.0->bert_score) (0.19.4)\n",
            "Requirement already satisfied: pyyaml>=5.1 in /usr/local/lib/python3.10/dist-packages (from transformers>=3.0.0->bert_score) (6.0.1)\n",
            "Requirement already satisfied: regex!=2019.12.17 in /usr/local/lib/python3.10/dist-packages (from transformers>=3.0.0->bert_score) (2023.6.3)\n",
            "Requirement already satisfied: tokenizers<0.19,>=0.14 in /usr/local/lib/python3.10/dist-packages (from transformers>=3.0.0->bert_score) (0.15.0)\n",
            "Requirement already satisfied: safetensors>=0.3.1 in /usr/local/lib/python3.10/dist-packages (from transformers>=3.0.0->bert_score) (0.4.0)\n",
            "Requirement already satisfied: contourpy>=1.0.1 in /usr/local/lib/python3.10/dist-packages (from matplotlib->bert_score) (1.2.0)\n",
            "Requirement already satisfied: cycler>=0.10 in /usr/local/lib/python3.10/dist-packages (from matplotlib->bert_score) (0.12.1)\n",
            "Requirement already satisfied: fonttools>=4.22.0 in /usr/local/lib/python3.10/dist-packages (from matplotlib->bert_score) (4.44.0)\n",
            "Requirement already satisfied: kiwisolver>=1.0.1 in /usr/local/lib/python3.10/dist-packages (from matplotlib->bert_score) (1.4.5)\n",
            "Requirement already satisfied: pillow>=6.2.0 in /usr/local/lib/python3.10/dist-packages (from matplotlib->bert_score) (9.4.0)\n",
            "Requirement already satisfied: pyparsing>=2.3.1 in /usr/local/lib/python3.10/dist-packages (from matplotlib->bert_score) (3.1.1)\n",
            "Requirement already satisfied: charset-normalizer<4,>=2 in /usr/local/lib/python3.10/dist-packages (from requests->bert_score) (3.3.2)\n",
            "Requirement already satisfied: idna<4,>=2.5 in /usr/local/lib/python3.10/dist-packages (from requests->bert_score) (3.4)\n",
            "Requirement already satisfied: urllib3<3,>=1.21.1 in /usr/local/lib/python3.10/dist-packages (from requests->bert_score) (1.26.18)\n",
            "Requirement already satisfied: certifi>=2017.4.17 in /usr/local/lib/python3.10/dist-packages (from requests->bert_score) (2023.7.22)\n",
            "Requirement already satisfied: six>=1.5 in /usr/local/lib/python3.10/dist-packages (from python-dateutil>=2.8.1->pandas>=1.0.1->bert_score) (1.16.0)\n",
            "Requirement already satisfied: MarkupSafe>=2.0 in /usr/local/lib/python3.10/dist-packages (from jinja2->torch>=1.0.0->bert_score) (2.1.3)\n",
            "Requirement already satisfied: mpmath>=0.19 in /usr/local/lib/python3.10/dist-packages (from sympy->torch>=1.0.0->bert_score) (1.3.0)\n",
            "Installing collected packages: bert_score\n",
            "Successfully installed bert_score-0.3.13\n"
          ]
        }
      ]
    },
    {
      "cell_type": "code",
      "source": [
        "import re\n",
        "from collections import Counter\n",
        "from bert_score import score\n",
        "\n",
        "\n",
        "\n",
        "# Initialize scores\n",
        "total_bert_score = 0\n",
        "total_precision_score = 0\n",
        "total_recall_score = 0\n",
        "total_f1_score = 0\n",
        "\n",
        "# Lists to store precision and recall for BERTScore\n",
        "precision_list = []\n",
        "recall_list = []\n",
        "\n"
      ],
      "metadata": {
        "id": "A8xSty-yksr0"
      },
      "execution_count": null,
      "outputs": []
    },
    {
      "cell_type": "code",
      "source": [
        "!mkdir pred"
      ],
      "metadata": {
        "id": "IIrm57hUDvHD",
        "colab": {
          "base_uri": "https://localhost:8080/"
        },
        "outputId": "fe491f00-fa62-484a-f6db-c86d8501579a"
      },
      "execution_count": null,
      "outputs": [
        {
          "output_type": "stream",
          "name": "stdout",
          "text": [
            "mkdir: cannot create directory ‘pred’: File exists\n"
          ]
        }
      ]
    },
    {
      "cell_type": "code",
      "source": [
        "import os\n",
        "# directory_path = './law_predictions'\n",
        "validation_path = './law_dataset/IN-Abs/test-data/summary/'\n",
        "file_list = os.listdir(validation_path)\n",
        "\n",
        "# for file_name in file_list:\n",
        "#     file_path = os.path.join(directory_path, file_name)\n",
        "#     validation_file = validation_path+file_name\n",
        "#     # Check if the item is a file (not a subdirectory)\n",
        "#     # with open(file_path, \"r\") as file:\n",
        "#         # text = file.read()\n",
        "\n",
        "#     with open(validation_file, \"r\") as file:\n",
        "#         validation_text = file.read()\n",
        "print(file_list)"
      ],
      "metadata": {
        "id": "QZahgsNrJpLR",
        "colab": {
          "base_uri": "https://localhost:8080/"
        },
        "outputId": "682501f9-6e66-49c6-c3e0-d085988dce74"
      },
      "execution_count": null,
      "outputs": [
        {
          "output_type": "stream",
          "name": "stdout",
          "text": [
            "['6668.txt', '415.txt', '7109.txt', '6157.txt', '1789.txt', '3019.txt', '496.txt', '1195.txt', '2657.txt', '5888.txt', '2207.txt', '1522.txt', '6118.txt', '2392.txt', '3210.txt', '2052.txt', '5248.txt', '380.txt', '5861.txt', '5141.txt', '6647.txt', '6852.txt', '1778.txt', '2035.txt', '1181.txt', '2627.txt', '2796.txt', '2065.txt', '3168.txt', '4641.txt', '78.txt', '2727.txt', '3844.txt', '6521.txt', '4860.txt', '266.txt', '6276.txt', '3542.txt', '5142.txt', '1762.txt', '6245.txt', '1329.txt', '3531.txt', '4480.txt', '1406.txt', '5538.txt', '362.txt', '784.txt', '2913.txt', '5597.txt', '660.txt', '4071.txt', '5364.txt', '232.txt', '2124.txt', '2649.txt', '6270.txt', '3924.txt', '690.txt', '7130.txt', '5266.txt', '652.txt', '3602.txt', '4316.txt', '5937.txt', '2609.txt', '5471.txt', '2304.txt', '6622.txt', '5707.txt', '3292.txt', '1378.txt', '2256.txt', '4807.txt', '3893.txt', '6413.txt', '3356.txt', '3442.txt', '6728.txt', '2248.txt', '1697.txt', '3436.txt', '6003.txt', '314.txt', '5994.txt', '715.txt', '4451.txt', '4938.txt', '6778.txt', '2593.txt', '2122.txt', '5397.txt', '1531.txt', '1974.txt', '6881.txt', '4917.txt', '4568.txt', '2440.txt', '4963.txt', '4782.txt']\n"
          ]
        }
      ]
    },
    {
      "cell_type": "code",
      "source": [
        "!pip install rouge"
      ],
      "metadata": {
        "id": "FL_cNlnnxxq6",
        "colab": {
          "base_uri": "https://localhost:8080/"
        },
        "outputId": "0f0318c6-7227-41e8-a372-9a72bd1f14e2"
      },
      "execution_count": null,
      "outputs": [
        {
          "output_type": "stream",
          "name": "stdout",
          "text": [
            "Collecting rouge\n",
            "  Downloading rouge-1.0.1-py3-none-any.whl (13 kB)\n",
            "Requirement already satisfied: six in /usr/local/lib/python3.10/dist-packages (from rouge) (1.16.0)\n",
            "Installing collected packages: rouge\n",
            "Successfully installed rouge-1.0.1\n"
          ]
        }
      ]
    },
    {
      "cell_type": "code",
      "source": [
        "# import os\n",
        "# from rouge import Rouge\n",
        "# from bert_score import score\n",
        "\n",
        "# # Define the directory paths\n",
        "# directory_path = './pred'\n",
        "# validation_path = './law_dataset/IN-Abs/test-data/summary/'\n",
        "# file_list = os.listdir(directory_path)\n",
        "\n",
        "# # Initialize lists to store scores\n",
        "# total_precision_score = 0.0\n",
        "# total_recall_score = 0.0\n",
        "# total_f1_score = 0.0\n",
        "# total_bert_score = 0.0\n",
        "# precision_list = []\n",
        "# recall_list = []\n",
        "# bert_score_list = []\n",
        "\n",
        "# # Initialize the ROUGE scorer\n",
        "# rouge = Rouge()\n",
        "\n",
        "# for file_name in file_list:\n",
        "#     file_path = os.path.join(directory_path, file_name)\n",
        "#     validation_file = os.path.join(validation_path, file_name)\n",
        "\n",
        "#     # Check if the item is a file (not a subdirectory)\n",
        "#     if os.path.isfile(file_path):\n",
        "#         print(\"File:\", file_name)\n",
        "#         # Read text from the generated summary file\n",
        "#         with open(file_path, \"r\") as file:\n",
        "#             candidate = file.read()\n",
        "\n",
        "#         # Read the reference summary text\n",
        "#         with open(validation_file, \"r\") as file:\n",
        "#             reference = file.read()\n",
        "\n",
        "#         # Calculate ROUGE scores\n",
        "#         rouge_scores = rouge.get_scores(candidate, reference)\n",
        "\n",
        "#         # Extract precision, recall, and F1 scores\n",
        "#         precision = rouge_scores[0][\"rouge-1\"][\"r\"]\n",
        "#         recall = rouge_scores[0][\"rouge-1\"][\"p\"]\n",
        "#         f1_score = rouge_scores[0][\"rouge-1\"][\"f\"]\n",
        "\n",
        "#         # Update total ROUGE scores\n",
        "#         total_precision_score += float(precision)\n",
        "#         total_recall_score += float(recall)\n",
        "#         total_f1_score += float(f1_score)\n",
        "\n",
        "#         # Append precision and recall to the lists\n",
        "#         precision_list.append(float(precision))\n",
        "#         recall_list.append(float(recall))\n",
        "\n",
        "#         # Calculate BERTScore\n",
        "#         P, R, F1 = score([candidate], [reference], lang=\"en\")\n",
        "#         bert_score = F1.item()\n",
        "\n",
        "#         # Update total BERTScore\n",
        "#         total_bert_score += bert_score\n",
        "\n",
        "#         # Append BERTScore to the list\n",
        "#         bert_score_list.append(bert_score)\n",
        "\n",
        "#         # Print scores neatly\n",
        "#         print(\"ROUGE-1 Precision:\", precision)\n",
        "#         print(\"ROUGE-1 Recall:\", recall)\n",
        "#         print(\"ROUGE-1 F1 Score:\", f1_score)\n",
        "#         print(\"BERTScore:\", bert_score)\n",
        "#         print(\"----------------------\")\n",
        "\n",
        "\n",
        "\n",
        "# # Calculate average ROUGE scores\n",
        "# num_files = len(file_list)\n",
        "# avg_precision_score = total_precision_score / num_files\n",
        "# avg_recall_score = total_recall_score / num_files\n",
        "# avg_f1_score = total_f1_score / num_files\n",
        "\n",
        "# # Calculate average BERTScore\n",
        "# avg_bert_score = total_bert_score / num_files\n",
        "\n",
        "# print(f'Average ROUGE Precision Score: {avg_precision_score:.6f}')\n",
        "# print(f'Average ROUGE Recall Score: {avg_recall_score:.6f}')\n",
        "# print(f'Average ROUGE F1 Score: {avg_f1_score:.6f}')\n",
        "# print(f'Average BERTScore: {avg_bert_score:.6f}')\n",
        "\n",
        "# # Print precision and recall for ROUGE and BERTScore\n",
        "# for i, (precision, recall, bert_score) in enumerate(zip(precision_list, recall_list, bert_score_list)):\n",
        "#     print(f'File {i + 1} - ROUGE Precision: {precision:.6f}, ROUGE Recall: {recall:.6f}, BERTScore: {bert_score:.6f}')\n"
      ],
      "metadata": {
        "id": "NVYqK9nUGDv5"
      },
      "execution_count": null,
      "outputs": []
    },
    {
      "cell_type": "code",
      "source": [
        "# !pip install rouge"
      ],
      "metadata": {
        "id": "qCjPBM7tciO2"
      },
      "execution_count": null,
      "outputs": []
    },
    {
      "cell_type": "code",
      "source": [
        "from llama_index.tools import QueryEngineTool, ToolMetadata\n",
        "from llama_index.agent import OpenAIAgent, ReActAgent\n",
        "from llama_index import SummaryIndex\n",
        "from llama_index import VectorStoreIndex\n",
        "from llama_index import SimpleDirectoryReader\n",
        "import os\n",
        "from rouge import Rouge\n",
        "from bert_score import score\n",
        "\n",
        "directory_path = './law_predictions'\n",
        "validation_path = './law_dataset/IN-Abs/test-data/summary/'\n",
        "saveDir = './pred/'\n",
        "# Initialize lists to store scores\n",
        "total_precision_score = 0.0\n",
        "total_recall_score = 0.0\n",
        "total_f1_score = 0.0\n",
        "total_bert_score = 0.0\n",
        "precision_list = []\n",
        "recall_list = []\n",
        "bert_score_list = []\n",
        "\n",
        "# Initialize the ROUGE scorer\n",
        "rouge = Rouge()\n",
        "\n",
        "for file_name in file_list:\n",
        "    validation_file = os.path.join(validation_path, file_name)\n",
        "\n",
        "    # Check if the item is a file (not a subdirectory)\n",
        "    print(\"File:\", file_name)\n",
        "    # Read text from the judgement file\n",
        "    # docs = '/content/law_dataset/IN-Abs/test-data/judgement/' + file_name\n",
        "    file_path = '/content/pred/'+file_name\n",
        "\n",
        "    if os.path.exists(file_path):\n",
        "      print('skipping --------------')\n",
        "      continue\n",
        "    print(\"File exists!\")\n",
        "    docs = SimpleDirectoryReader(\n",
        "        input_files=['/content/law_dataset/IN-Abs/test-data/judgement/' + file_name]\n",
        "    ).load_data()\n",
        "    summary_index = SummaryIndex.from_documents(docs, service_context=service_context)\n",
        "\n",
        "    qe = summary_index.as_query_engine(response_mode=\"tree_summarize\")\n",
        "    response = qe.query('Summarize the current document. Do not miss or invent any details.')\n",
        "    # print(response)\n",
        "    candidate = str(response)\n",
        "    with open('./pred/'+file_name, 'w') as pred_file:\n",
        "            pred_file.write(candidate)\n",
        "\n",
        "    # Read the reference summary text\n",
        "    with open(validation_file, \"r\") as file:\n",
        "        reference = file.read()\n",
        "\n",
        "    # Calculate ROUGE scores\n",
        "    rouge_scores = rouge.get_scores(candidate, reference)\n",
        "\n",
        "    # Extract precision, recall, and F1 scores\n",
        "    precision = rouge_scores[0][\"rouge-1\"][\"r\"]\n",
        "    recall = rouge_scores[0][\"rouge-1\"][\"p\"]\n",
        "    f1_score = rouge_scores[0][\"rouge-1\"][\"f\"]\n",
        "\n",
        "    # Update total ROUGE scores\n",
        "    total_precision_score += float(precision)\n",
        "    total_recall_score += float(recall)\n",
        "    total_f1_score += float(f1_score)\n",
        "\n",
        "    # Append precision and recall to the lists\n",
        "    precision_list.append(float(precision))\n",
        "    recall_list.append(float(recall))\n",
        "\n",
        "    # Calculate BERTScore\n",
        "    P, R, F1 = score([candidate], [reference], lang=\"en\")\n",
        "    bert_score = F1.item()\n",
        "\n",
        "    # Update total BERTScore\n",
        "    total_bert_score += bert_score\n",
        "\n",
        "    # Append BERTScore to the list\n",
        "    bert_score_list.append(bert_score)\n",
        "\n",
        "    # Print scores neatly\n",
        "    print(\"ROUGE-1 Precision:\", precision)\n",
        "    print(\"ROUGE-1 Recall:\", recall)\n",
        "    print(\"ROUGE-1 F1 Score:\", f1_score)\n",
        "    print(\"BERTScore:\", bert_score)\n",
        "    print(\"----------------------\")\n",
        "\n",
        "\n",
        "# Calculate average scores\n",
        "avg_bert_score = total_bert_score / 2\n",
        "avg_precision_score = total_precision_score / 2\n",
        "avg_recall_score = total_recall_score / 2\n",
        "avg_f1_score = total_f1_score / 2\n",
        "\n",
        "print(f'Average BERTScore: {avg_bert_score:.6f}')\n",
        "print(f'Average ROUGE-1 Precision Score: {avg_precision_score:.6f}')\n",
        "print(f'Average ROUGE-1 Recall Score: {avg_recall_score:.6f}')\n",
        "print(f'Average ROUGE-1 F1 Score: {avg_f1_score:.6f}')\n"
      ],
      "metadata": {
        "id": "ZNPIcIULJoXn",
        "colab": {
          "base_uri": "https://localhost:8080/",
          "height": 1000,
          "referenced_widgets": [
            "6aa97991cae5495ebf8a1ee69b976b60",
            "7df8cc683a7c49beb1e6ffc17475cccf",
            "430a706f92f94eadaac363105c4e14d0",
            "75ee266df53a496893546497db822157",
            "f727597cc68b45f49adb5ace1039887e",
            "f47850bf2d2148179ac68c01a7493e47",
            "8ca6abb5e0464bce8222f61a7e74ec64",
            "57fc25082c6c4b16bfd612aaca2471cc",
            "f810196d885f4b019cd941d42335f320",
            "9e449e0425f0499894ec17174197ae9b",
            "527aebaae9a54235a3735ae9b50fa7ff",
            "9d0f88e7e80947c684a363b0b2a69093",
            "b9c80b8880ad48c58d6a7b26a1cf82e3",
            "3b1d147493fa4793acdbdb286aad8c1b",
            "e600b66d323348b598c84d05a4042693",
            "2523134d47f941b6b8d1c8c7eead36ca",
            "b94cd2ad52ad4c089e4f7160e39b3aa4",
            "a03655bc71464bd3b89aeb98a06123e5",
            "266b9e840f614d4aa3342913f91ac13f",
            "82112a2182de42c492d5e405c22b8617",
            "5f4eb8d534c7460a9e97fed1a812471b",
            "d864ba9ff43f40b098f91c979a150ae4",
            "d5c3ae408fb3430a822d50d58d32f33a",
            "26484be5c6424ba2b9d6df9d2dc7baa2",
            "d261a3cd6aca4ca7806667a23b9fe21e",
            "739c43d5a8bd438bbf0b57bacb404de5",
            "12a479451ac840fa80ca079cd2972114",
            "0b5003c76dd6482584418cf2d9e21110",
            "f831f6d582e84f3f88872c47f6daf5c9",
            "c7fc1735084541d9a308e0f425bc82cd",
            "21ef4d7bd2234f07b472cbe58b6ccb8a",
            "54faef0e746a443ba30b87813342402c",
            "468e99569a1a4203bfe31dc881786bb1",
            "9a4d8f445c0d41bcb9eca0aac4d069e9",
            "43f0dc76fffe4b3391d640f548f870e5",
            "ae84f757b7694476a945d2aaa6129336",
            "865d1fe00dd24e2398401e34bc3ff26a",
            "e8c4e6dd40a24706976abffaf027695f",
            "20712b74b7a247a2a99315e386f84b84",
            "5e1e018570854a8780a234e3e5865d71",
            "4c2997019e69473887437d2c704d2ca3",
            "110420228d184b0eb98817a990bf0693",
            "ca695acbc24f4123b7a91a95acaec70b",
            "8670761546ba49879bad3568485e30d3",
            "32864e2523c94e918257aa0d4f5f1a11",
            "7d370c81a4b34f3185d7b1366862a5cd",
            "c3d7035fc2144aeda9d54fe6d9263803",
            "3bb9539fee474b0ab4db82b5cbf46163",
            "8a11b601bf424ed4801ccf684383dbdd",
            "9215146814684a9fb10ddfee06d6ada1",
            "b2a9d90b82f242ad9acf76147a6a72a0",
            "998d8e0acd0f4f19b9a89b37f470e114",
            "4925c2f936b64744b90c2e49e4398b2a",
            "a2b24f0b2868484fbd1219dfea8f4d1a",
            "f84071ad8c044ba2a8884fb972d47e16"
          ]
        },
        "outputId": "7305f653-94d1-4dcd-f7e1-3d49f89cd310"
      },
      "execution_count": null,
      "outputs": [
        {
          "metadata": {
            "tags": null
          },
          "name": "stdout",
          "output_type": "stream",
          "text": [
            "File: 6668.txt\n",
            "skipping --------------\n",
            "File: 415.txt\n",
            "skipping --------------\n",
            "File: 7109.txt\n",
            "skipping --------------\n",
            "File: 6157.txt\n",
            "skipping --------------\n",
            "File: 1789.txt\n",
            "skipping --------------\n",
            "File: 3019.txt\n",
            "skipping --------------\n",
            "File: 496.txt\n",
            "skipping --------------\n",
            "File: 1195.txt\n",
            "skipping --------------\n",
            "File: 2657.txt\n",
            "skipping --------------\n",
            "File: 5888.txt\n",
            "skipping --------------\n",
            "File: 2207.txt\n",
            "skipping --------------\n",
            "File: 1522.txt\n",
            "skipping --------------\n",
            "File: 6118.txt\n",
            "skipping --------------\n",
            "File: 2392.txt\n",
            "skipping --------------\n",
            "File: 3210.txt\n",
            "skipping --------------\n",
            "File: 2052.txt\n",
            "skipping --------------\n",
            "File: 5248.txt\n",
            "skipping --------------\n",
            "File: 380.txt\n",
            "skipping --------------\n",
            "File: 5861.txt\n",
            "skipping --------------\n",
            "File: 5141.txt\n",
            "skipping --------------\n",
            "File: 6647.txt\n",
            "skipping --------------\n",
            "File: 6852.txt\n",
            "skipping --------------\n",
            "File: 1778.txt\n",
            "skipping --------------\n",
            "File: 2035.txt\n",
            "skipping --------------\n",
            "File: 1181.txt\n",
            "skipping --------------\n",
            "File: 2627.txt\n",
            "skipping --------------\n",
            "File: 2796.txt\n",
            "skipping --------------\n",
            "File: 2065.txt\n",
            "skipping --------------\n",
            "File: 3168.txt\n",
            "skipping --------------\n",
            "File: 4641.txt\n",
            "skipping --------------\n",
            "File: 78.txt\n",
            "skipping --------------\n",
            "File: 2727.txt\n",
            "skipping --------------\n",
            "File: 3844.txt\n",
            "skipping --------------\n",
            "File: 6521.txt\n",
            "skipping --------------\n",
            "File: 4860.txt\n",
            "skipping --------------\n",
            "File: 266.txt\n",
            "skipping --------------\n",
            "File: 6276.txt\n",
            "skipping --------------\n",
            "File: 3542.txt\n",
            "skipping --------------\n",
            "File: 5142.txt\n",
            "skipping --------------\n",
            "File: 1762.txt\n",
            "skipping --------------\n",
            "File: 6245.txt\n",
            "skipping --------------\n",
            "File: 1329.txt\n",
            "skipping --------------\n",
            "File: 3531.txt\n",
            "skipping --------------\n",
            "File: 4480.txt\n",
            "skipping --------------\n",
            "File: 1406.txt\n",
            "skipping --------------\n",
            "File: 5538.txt\n",
            "skipping --------------\n",
            "File: 362.txt\n",
            "skipping --------------\n",
            "File: 784.txt\n",
            "skipping --------------\n",
            "File: 2913.txt\n",
            "skipping --------------\n",
            "File: 5597.txt\n",
            "skipping --------------\n",
            "File: 660.txt\n",
            "skipping --------------\n",
            "File: 4071.txt\n",
            "skipping --------------\n",
            "File: 5364.txt\n",
            "skipping --------------\n",
            "File: 232.txt\n",
            "skipping --------------\n",
            "File: 2124.txt\n",
            "skipping --------------\n",
            "File: 2649.txt\n",
            "skipping --------------\n",
            "File: 6270.txt\n",
            "skipping --------------\n",
            "File: 3924.txt\n",
            "skipping --------------\n",
            "File: 690.txt\n",
            "skipping --------------\n",
            "File: 7130.txt\n",
            "skipping --------------\n",
            "File: 5266.txt\n",
            "File exists!\n"
          ]
        },
        {
          "metadata": {
            "tags": null
          },
          "name": "stderr",
          "output_type": "stream",
          "text": [
            "/usr/local/lib/python3.10/dist-packages/transformers/generation/utils.py:1473: UserWarning: You have modified the pretrained model configuration to control generation. This is a deprecated strategy to control generation and will be removed soon, in a future version. Please use and modify the model generation configuration (see https://huggingface.co/docs/transformers/generation_strategies#default-text-generation-configuration )\n",
            "  warnings.warn(\n",
            "/usr/local/lib/python3.10/dist-packages/transformers/generation/configuration_utils.py:381: UserWarning: `do_sample` is set to `False`. However, `temperature` is set to `0.7` -- this flag is only used in sample-based generation modes. You should set `do_sample=True` or unset `temperature`.\n",
            "  warnings.warn(\n",
            "/usr/local/lib/python3.10/dist-packages/transformers/generation/configuration_utils.py:386: UserWarning: `do_sample` is set to `False`. However, `top_p` is set to `0.95` -- this flag is only used in sample-based generation modes. You should set `do_sample=True` or unset `top_p`.\n",
            "  warnings.warn(\n"
          ]
        },
        {
          "data": {
            "application/vnd.jupyter.widget-view+json": {
              "model_id": "6aa97991cae5495ebf8a1ee69b976b60",
              "version_major": 2,
              "version_minor": 0
            },
            "text/plain": [
              "(…)o/roberta-large/resolve/main/config.json:   0%|          | 0.00/482 [00:00<?, ?B/s]"
            ]
          },
          "metadata": {},
          "output_type": "display_data"
        },
        {
          "data": {
            "application/vnd.jupyter.widget-view+json": {
              "model_id": "9d0f88e7e80947c684a363b0b2a69093",
              "version_major": 2,
              "version_minor": 0
            },
            "text/plain": [
              "(…)co/roberta-large/resolve/main/vocab.json:   0%|          | 0.00/899k [00:00<?, ?B/s]"
            ]
          },
          "metadata": {},
          "output_type": "display_data"
        },
        {
          "data": {
            "application/vnd.jupyter.widget-view+json": {
              "model_id": "d5c3ae408fb3430a822d50d58d32f33a",
              "version_major": 2,
              "version_minor": 0
            },
            "text/plain": [
              "(…)co/roberta-large/resolve/main/merges.txt:   0%|          | 0.00/456k [00:00<?, ?B/s]"
            ]
          },
          "metadata": {},
          "output_type": "display_data"
        },
        {
          "data": {
            "application/vnd.jupyter.widget-view+json": {
              "model_id": "9a4d8f445c0d41bcb9eca0aac4d069e9",
              "version_major": 2,
              "version_minor": 0
            },
            "text/plain": [
              "(…)oberta-large/resolve/main/tokenizer.json:   0%|          | 0.00/1.36M [00:00<?, ?B/s]"
            ]
          },
          "metadata": {},
          "output_type": "display_data"
        },
        {
          "data": {
            "application/vnd.jupyter.widget-view+json": {
              "model_id": "32864e2523c94e918257aa0d4f5f1a11",
              "version_major": 2,
              "version_minor": 0
            },
            "text/plain": [
              "model.safetensors:   0%|          | 0.00/1.42G [00:00<?, ?B/s]"
            ]
          },
          "metadata": {},
          "output_type": "display_data"
        },
        {
          "metadata": {
            "tags": null
          },
          "name": "stderr",
          "output_type": "stream",
          "text": [
            "Some weights of RobertaModel were not initialized from the model checkpoint at roberta-large and are newly initialized: ['roberta.pooler.dense.weight', 'roberta.pooler.dense.bias']\n",
            "You should probably TRAIN this model on a down-stream task to be able to use it for predictions and inference.\n"
          ]
        },
        {
          "metadata": {
            "tags": null
          },
          "name": "stdout",
          "output_type": "stream",
          "text": [
            "ROUGE-1 Precision: 0.053007742703990474\n",
            "ROUGE-1 Recall: 0.6137931034482759\n",
            "ROUGE-1 F1 Score: 0.0975877178347244\n",
            "BERTScore: 0.8077370524406433\n",
            "----------------------\n",
            "File: 652.txt\n",
            "File exists!\n"
          ]
        },
        {
          "output_type": "stream",
          "name": "stderr",
          "text": [
            "Some weights of RobertaModel were not initialized from the model checkpoint at roberta-large and are newly initialized: ['roberta.pooler.dense.weight', 'roberta.pooler.dense.bias']\n",
            "You should probably TRAIN this model on a down-stream task to be able to use it for predictions and inference.\n"
          ]
        },
        {
          "output_type": "stream",
          "name": "stdout",
          "text": [
            "ROUGE-1 Precision: 0.1724137931034483\n",
            "ROUGE-1 Recall: 0.29069767441860467\n",
            "ROUGE-1 F1 Score: 0.21645021177639112\n",
            "BERTScore: 0.8252128958702087\n",
            "----------------------\n",
            "File: 3602.txt\n",
            "File exists!\n"
          ]
        },
        {
          "output_type": "stream",
          "name": "stderr",
          "text": [
            "Some weights of RobertaModel were not initialized from the model checkpoint at roberta-large and are newly initialized: ['roberta.pooler.dense.weight', 'roberta.pooler.dense.bias']\n",
            "You should probably TRAIN this model on a down-stream task to be able to use it for predictions and inference.\n"
          ]
        },
        {
          "output_type": "stream",
          "name": "stdout",
          "text": [
            "ROUGE-1 Precision: 0.18055555555555555\n",
            "ROUGE-1 Recall: 0.3644859813084112\n",
            "ROUGE-1 F1 Score: 0.24148606368085582\n",
            "BERTScore: 0.8327286243438721\n",
            "----------------------\n",
            "File: 4316.txt\n",
            "File exists!\n"
          ]
        },
        {
          "output_type": "stream",
          "name": "stderr",
          "text": [
            "Some weights of RobertaModel were not initialized from the model checkpoint at roberta-large and are newly initialized: ['roberta.pooler.dense.weight', 'roberta.pooler.dense.bias']\n",
            "You should probably TRAIN this model on a down-stream task to be able to use it for predictions and inference.\n"
          ]
        },
        {
          "output_type": "stream",
          "name": "stdout",
          "text": [
            "ROUGE-1 Precision: 0.12214983713355049\n",
            "ROUGE-1 Recall: 0.6880733944954128\n",
            "ROUGE-1 F1 Score: 0.2074688771074113\n",
            "BERTScore: 0.8280645608901978\n",
            "----------------------\n",
            "File: 5937.txt\n",
            "File exists!\n"
          ]
        },
        {
          "output_type": "stream",
          "name": "stderr",
          "text": [
            "Some weights of RobertaModel were not initialized from the model checkpoint at roberta-large and are newly initialized: ['roberta.pooler.dense.weight', 'roberta.pooler.dense.bias']\n",
            "You should probably TRAIN this model on a down-stream task to be able to use it for predictions and inference.\n"
          ]
        },
        {
          "output_type": "stream",
          "name": "stdout",
          "text": [
            "ROUGE-1 Precision: 0.5132743362831859\n",
            "ROUGE-1 Recall: 0.5272727272727272\n",
            "ROUGE-1 F1 Score: 0.5201793671982144\n",
            "BERTScore: 0.8973989486694336\n",
            "----------------------\n",
            "File: 2609.txt\n",
            "File exists!\n"
          ]
        },
        {
          "output_type": "stream",
          "name": "stderr",
          "text": [
            "Some weights of RobertaModel were not initialized from the model checkpoint at roberta-large and are newly initialized: ['roberta.pooler.dense.weight', 'roberta.pooler.dense.bias']\n",
            "You should probably TRAIN this model on a down-stream task to be able to use it for predictions and inference.\n"
          ]
        },
        {
          "output_type": "stream",
          "name": "stdout",
          "text": [
            "ROUGE-1 Precision: 0.3192771084337349\n",
            "ROUGE-1 Recall: 0.43089430894308944\n",
            "ROUGE-1 F1 Score: 0.366782002031106\n",
            "BERTScore: 0.8500838875770569\n",
            "----------------------\n",
            "File: 5471.txt\n",
            "File exists!\n"
          ]
        },
        {
          "output_type": "stream",
          "name": "stderr",
          "text": [
            "Some weights of RobertaModel were not initialized from the model checkpoint at roberta-large and are newly initialized: ['roberta.pooler.dense.weight', 'roberta.pooler.dense.bias']\n",
            "You should probably TRAIN this model on a down-stream task to be able to use it for predictions and inference.\n"
          ]
        },
        {
          "output_type": "stream",
          "name": "stdout",
          "text": [
            "ROUGE-1 Precision: 0.1836734693877551\n",
            "ROUGE-1 Recall: 0.5\n",
            "ROUGE-1 F1 Score: 0.2686567124883048\n",
            "BERTScore: 0.8362906575202942\n",
            "----------------------\n",
            "File: 2304.txt\n",
            "File exists!\n"
          ]
        },
        {
          "output_type": "stream",
          "name": "stderr",
          "text": [
            "Some weights of RobertaModel were not initialized from the model checkpoint at roberta-large and are newly initialized: ['roberta.pooler.dense.weight', 'roberta.pooler.dense.bias']\n",
            "You should probably TRAIN this model on a down-stream task to be able to use it for predictions and inference.\n"
          ]
        },
        {
          "output_type": "stream",
          "name": "stdout",
          "text": [
            "ROUGE-1 Precision: 0.1676829268292683\n",
            "ROUGE-1 Recall: 0.49107142857142855\n",
            "ROUGE-1 F1 Score: 0.24999999620495872\n",
            "BERTScore: 0.8363999128341675\n",
            "----------------------\n",
            "File: 6622.txt\n",
            "File exists!\n"
          ]
        },
        {
          "output_type": "stream",
          "name": "stderr",
          "text": [
            "Some weights of RobertaModel were not initialized from the model checkpoint at roberta-large and are newly initialized: ['roberta.pooler.dense.weight', 'roberta.pooler.dense.bias']\n",
            "You should probably TRAIN this model on a down-stream task to be able to use it for predictions and inference.\n"
          ]
        },
        {
          "output_type": "stream",
          "name": "stdout",
          "text": [
            "ROUGE-1 Precision: 0.20844327176781002\n",
            "ROUGE-1 Recall: 0.541095890410959\n",
            "ROUGE-1 F1 Score: 0.30095237693721544\n",
            "BERTScore: 0.8420220613479614\n",
            "----------------------\n",
            "File: 5707.txt\n",
            "File exists!\n"
          ]
        },
        {
          "output_type": "stream",
          "name": "stderr",
          "text": [
            "Some weights of RobertaModel were not initialized from the model checkpoint at roberta-large and are newly initialized: ['roberta.pooler.dense.weight', 'roberta.pooler.dense.bias']\n",
            "You should probably TRAIN this model on a down-stream task to be able to use it for predictions and inference.\n"
          ]
        },
        {
          "output_type": "stream",
          "name": "stdout",
          "text": [
            "ROUGE-1 Precision: 0.11764705882352941\n",
            "ROUGE-1 Recall: 0.5376344086021505\n",
            "ROUGE-1 F1 Score: 0.19305019010412786\n",
            "BERTScore: 0.822502613067627\n",
            "----------------------\n",
            "File: 3292.txt\n",
            "File exists!\n"
          ]
        },
        {
          "output_type": "stream",
          "name": "stderr",
          "text": [
            "Some weights of RobertaModel were not initialized from the model checkpoint at roberta-large and are newly initialized: ['roberta.pooler.dense.weight', 'roberta.pooler.dense.bias']\n",
            "You should probably TRAIN this model on a down-stream task to be able to use it for predictions and inference.\n"
          ]
        },
        {
          "output_type": "stream",
          "name": "stdout",
          "text": [
            "ROUGE-1 Precision: 0.3004694835680751\n",
            "ROUGE-1 Recall: 0.4740740740740741\n",
            "ROUGE-1 F1 Score: 0.3678160872052121\n",
            "BERTScore: 0.8531724214553833\n",
            "----------------------\n",
            "File: 1378.txt\n",
            "File exists!\n"
          ]
        },
        {
          "output_type": "stream",
          "name": "stderr",
          "text": [
            "Some weights of RobertaModel were not initialized from the model checkpoint at roberta-large and are newly initialized: ['roberta.pooler.dense.weight', 'roberta.pooler.dense.bias']\n",
            "You should probably TRAIN this model on a down-stream task to be able to use it for predictions and inference.\n"
          ]
        },
        {
          "output_type": "stream",
          "name": "stdout",
          "text": [
            "ROUGE-1 Precision: 0.3333333333333333\n",
            "ROUGE-1 Recall: 0.4367816091954023\n",
            "ROUGE-1 F1 Score: 0.378109447826539\n",
            "BERTScore: 0.8575857281684875\n",
            "----------------------\n",
            "File: 2256.txt\n",
            "File exists!\n"
          ]
        },
        {
          "output_type": "stream",
          "name": "stderr",
          "text": [
            "Some weights of RobertaModel were not initialized from the model checkpoint at roberta-large and are newly initialized: ['roberta.pooler.dense.weight', 'roberta.pooler.dense.bias']\n",
            "You should probably TRAIN this model on a down-stream task to be able to use it for predictions and inference.\n"
          ]
        },
        {
          "output_type": "stream",
          "name": "stdout",
          "text": [
            "ROUGE-1 Precision: 0.2992957746478873\n",
            "ROUGE-1 Recall: 0.5120481927710844\n",
            "ROUGE-1 F1 Score: 0.3777777731215803\n",
            "BERTScore: 0.8587862849235535\n",
            "----------------------\n",
            "File: 4807.txt\n",
            "File exists!\n"
          ]
        },
        {
          "output_type": "stream",
          "name": "stderr",
          "text": [
            "Some weights of RobertaModel were not initialized from the model checkpoint at roberta-large and are newly initialized: ['roberta.pooler.dense.weight', 'roberta.pooler.dense.bias']\n",
            "You should probably TRAIN this model on a down-stream task to be able to use it for predictions and inference.\n"
          ]
        },
        {
          "output_type": "stream",
          "name": "stdout",
          "text": [
            "ROUGE-1 Precision: 0.34375\n",
            "ROUGE-1 Recall: 0.7064220183486238\n",
            "ROUGE-1 F1 Score: 0.46246245805877956\n",
            "BERTScore: 0.8571265935897827\n",
            "----------------------\n",
            "File: 3893.txt\n",
            "File exists!\n"
          ]
        },
        {
          "output_type": "stream",
          "name": "stderr",
          "text": [
            "Some weights of RobertaModel were not initialized from the model checkpoint at roberta-large and are newly initialized: ['roberta.pooler.dense.weight', 'roberta.pooler.dense.bias']\n",
            "You should probably TRAIN this model on a down-stream task to be able to use it for predictions and inference.\n"
          ]
        },
        {
          "output_type": "stream",
          "name": "stdout",
          "text": [
            "ROUGE-1 Precision: 0.1342925659472422\n",
            "ROUGE-1 Recall: 0.691358024691358\n",
            "ROUGE-1 F1 Score: 0.22489959566966664\n",
            "BERTScore: 0.8403473496437073\n",
            "----------------------\n",
            "File: 6413.txt\n",
            "File exists!\n"
          ]
        },
        {
          "output_type": "stream",
          "name": "stderr",
          "text": [
            "Some weights of RobertaModel were not initialized from the model checkpoint at roberta-large and are newly initialized: ['roberta.pooler.dense.weight', 'roberta.pooler.dense.bias']\n",
            "You should probably TRAIN this model on a down-stream task to be able to use it for predictions and inference.\n"
          ]
        },
        {
          "output_type": "stream",
          "name": "stdout",
          "text": [
            "ROUGE-1 Precision: 0.172\n",
            "ROUGE-1 Recall: 0.4942528735632184\n",
            "ROUGE-1 F1 Score: 0.25519287450800837\n",
            "BERTScore: 0.8355429768562317\n",
            "----------------------\n",
            "File: 3356.txt\n",
            "File exists!\n"
          ]
        },
        {
          "output_type": "stream",
          "name": "stderr",
          "text": [
            "Some weights of RobertaModel were not initialized from the model checkpoint at roberta-large and are newly initialized: ['roberta.pooler.dense.weight', 'roberta.pooler.dense.bias']\n",
            "You should probably TRAIN this model on a down-stream task to be able to use it for predictions and inference.\n"
          ]
        },
        {
          "output_type": "stream",
          "name": "stdout",
          "text": [
            "ROUGE-1 Precision: 0.2670157068062827\n",
            "ROUGE-1 Recall: 0.38345864661654133\n",
            "ROUGE-1 F1 Score: 0.31481480997504196\n",
            "BERTScore: 0.831389307975769\n",
            "----------------------\n",
            "File: 3442.txt\n",
            "File exists!\n"
          ]
        },
        {
          "output_type": "stream",
          "name": "stderr",
          "text": [
            "Some weights of RobertaModel were not initialized from the model checkpoint at roberta-large and are newly initialized: ['roberta.pooler.dense.weight', 'roberta.pooler.dense.bias']\n",
            "You should probably TRAIN this model on a down-stream task to be able to use it for predictions and inference.\n"
          ]
        },
        {
          "output_type": "stream",
          "name": "stdout",
          "text": [
            "ROUGE-1 Precision: 0.1762820512820513\n",
            "ROUGE-1 Recall: 0.44715447154471544\n",
            "ROUGE-1 F1 Score: 0.25287355916226717\n",
            "BERTScore: 0.8051175475120544\n",
            "----------------------\n",
            "File: 6728.txt\n",
            "File exists!\n"
          ]
        },
        {
          "output_type": "stream",
          "name": "stderr",
          "text": [
            "Some weights of RobertaModel were not initialized from the model checkpoint at roberta-large and are newly initialized: ['roberta.pooler.dense.weight', 'roberta.pooler.dense.bias']\n",
            "You should probably TRAIN this model on a down-stream task to be able to use it for predictions and inference.\n"
          ]
        },
        {
          "output_type": "stream",
          "name": "stdout",
          "text": [
            "ROUGE-1 Precision: 0.37745098039215685\n",
            "ROUGE-1 Recall: 0.6637931034482759\n",
            "ROUGE-1 F1 Score: 0.48124999537812513\n",
            "BERTScore: 0.8660917282104492\n",
            "----------------------\n",
            "File: 2248.txt\n",
            "File exists!\n"
          ]
        },
        {
          "output_type": "stream",
          "name": "stderr",
          "text": [
            "Some weights of RobertaModel were not initialized from the model checkpoint at roberta-large and are newly initialized: ['roberta.pooler.dense.weight', 'roberta.pooler.dense.bias']\n",
            "You should probably TRAIN this model on a down-stream task to be able to use it for predictions and inference.\n"
          ]
        },
        {
          "output_type": "stream",
          "name": "stdout",
          "text": [
            "ROUGE-1 Precision: 0.30973451327433627\n",
            "ROUGE-1 Recall: 0.4375\n",
            "ROUGE-1 F1 Score: 0.36269429566431316\n",
            "BERTScore: 0.849763810634613\n",
            "----------------------\n",
            "File: 1697.txt\n",
            "File exists!\n"
          ]
        },
        {
          "output_type": "stream",
          "name": "stderr",
          "text": [
            "Some weights of RobertaModel were not initialized from the model checkpoint at roberta-large and are newly initialized: ['roberta.pooler.dense.weight', 'roberta.pooler.dense.bias']\n",
            "You should probably TRAIN this model on a down-stream task to be able to use it for predictions and inference.\n"
          ]
        },
        {
          "output_type": "stream",
          "name": "stdout",
          "text": [
            "ROUGE-1 Precision: 0.13849765258215962\n",
            "ROUGE-1 Recall: 0.5221238938053098\n",
            "ROUGE-1 F1 Score: 0.21892392989573906\n",
            "BERTScore: 0.8129440546035767\n",
            "----------------------\n",
            "File: 3436.txt\n",
            "File exists!\n"
          ]
        },
        {
          "output_type": "stream",
          "name": "stderr",
          "text": [
            "Some weights of RobertaModel were not initialized from the model checkpoint at roberta-large and are newly initialized: ['roberta.pooler.dense.weight', 'roberta.pooler.dense.bias']\n",
            "You should probably TRAIN this model on a down-stream task to be able to use it for predictions and inference.\n"
          ]
        },
        {
          "output_type": "stream",
          "name": "stdout",
          "text": [
            "ROUGE-1 Precision: 0.2046783625730994\n",
            "ROUGE-1 Recall: 0.4794520547945205\n",
            "ROUGE-1 F1 Score: 0.2868852417082102\n",
            "BERTScore: 0.8357084393501282\n",
            "----------------------\n",
            "File: 6003.txt\n",
            "File exists!\n"
          ]
        },
        {
          "output_type": "stream",
          "name": "stderr",
          "text": [
            "Some weights of RobertaModel were not initialized from the model checkpoint at roberta-large and are newly initialized: ['roberta.pooler.dense.weight', 'roberta.pooler.dense.bias']\n",
            "You should probably TRAIN this model on a down-stream task to be able to use it for predictions and inference.\n"
          ]
        },
        {
          "output_type": "stream",
          "name": "stdout",
          "text": [
            "ROUGE-1 Precision: 0.20292504570383912\n",
            "ROUGE-1 Recall: 0.5235849056603774\n",
            "ROUGE-1 F1 Score: 0.2924901145511135\n",
            "BERTScore: 0.831531286239624\n",
            "----------------------\n",
            "File: 314.txt\n",
            "File exists!\n"
          ]
        },
        {
          "output_type": "stream",
          "name": "stderr",
          "text": [
            "Some weights of RobertaModel were not initialized from the model checkpoint at roberta-large and are newly initialized: ['roberta.pooler.dense.weight', 'roberta.pooler.dense.bias']\n",
            "You should probably TRAIN this model on a down-stream task to be able to use it for predictions and inference.\n"
          ]
        },
        {
          "output_type": "stream",
          "name": "stdout",
          "text": [
            "ROUGE-1 Precision: 0.18543046357615894\n",
            "ROUGE-1 Recall: 0.4057971014492754\n",
            "ROUGE-1 F1 Score: 0.2545454502400827\n",
            "BERTScore: 0.8390632271766663\n",
            "----------------------\n",
            "File: 5994.txt\n",
            "File exists!\n"
          ]
        },
        {
          "output_type": "stream",
          "name": "stderr",
          "text": [
            "Some weights of RobertaModel were not initialized from the model checkpoint at roberta-large and are newly initialized: ['roberta.pooler.dense.weight', 'roberta.pooler.dense.bias']\n",
            "You should probably TRAIN this model on a down-stream task to be able to use it for predictions and inference.\n"
          ]
        },
        {
          "output_type": "stream",
          "name": "stdout",
          "text": [
            "ROUGE-1 Precision: 0.18936170212765957\n",
            "ROUGE-1 Recall: 0.5114942528735632\n",
            "ROUGE-1 F1 Score: 0.27639751158423675\n",
            "BERTScore: 0.8322909474372864\n",
            "----------------------\n",
            "File: 715.txt\n",
            "File exists!\n"
          ]
        },
        {
          "output_type": "stream",
          "name": "stderr",
          "text": [
            "Some weights of RobertaModel were not initialized from the model checkpoint at roberta-large and are newly initialized: ['roberta.pooler.dense.weight', 'roberta.pooler.dense.bias']\n",
            "You should probably TRAIN this model on a down-stream task to be able to use it for predictions and inference.\n"
          ]
        },
        {
          "output_type": "stream",
          "name": "stdout",
          "text": [
            "ROUGE-1 Precision: 0.28225806451612906\n",
            "ROUGE-1 Recall: 0.4861111111111111\n",
            "ROUGE-1 F1 Score: 0.3571428524947939\n",
            "BERTScore: 0.8544390201568604\n",
            "----------------------\n",
            "File: 4451.txt\n",
            "File exists!\n"
          ]
        },
        {
          "output_type": "stream",
          "name": "stderr",
          "text": [
            "Some weights of RobertaModel were not initialized from the model checkpoint at roberta-large and are newly initialized: ['roberta.pooler.dense.weight', 'roberta.pooler.dense.bias']\n",
            "You should probably TRAIN this model on a down-stream task to be able to use it for predictions and inference.\n"
          ]
        },
        {
          "output_type": "stream",
          "name": "stdout",
          "text": [
            "ROUGE-1 Precision: 0.15789473684210525\n",
            "ROUGE-1 Recall: 0.5070422535211268\n",
            "ROUGE-1 F1 Score: 0.24080267196384827\n",
            "BERTScore: 0.8442384004592896\n",
            "----------------------\n",
            "File: 4938.txt\n",
            "File exists!\n"
          ]
        },
        {
          "output_type": "stream",
          "name": "stderr",
          "text": [
            "Some weights of RobertaModel were not initialized from the model checkpoint at roberta-large and are newly initialized: ['roberta.pooler.dense.weight', 'roberta.pooler.dense.bias']\n",
            "You should probably TRAIN this model on a down-stream task to be able to use it for predictions and inference.\n"
          ]
        },
        {
          "output_type": "stream",
          "name": "stdout",
          "text": [
            "ROUGE-1 Precision: 0.20887728459530025\n",
            "ROUGE-1 Recall: 0.625\n",
            "ROUGE-1 F1 Score: 0.31311154223337073\n",
            "BERTScore: 0.849839985370636\n",
            "----------------------\n",
            "File: 6778.txt\n",
            "File exists!\n"
          ]
        },
        {
          "output_type": "stream",
          "name": "stderr",
          "text": [
            "Some weights of RobertaModel were not initialized from the model checkpoint at roberta-large and are newly initialized: ['roberta.pooler.dense.weight', 'roberta.pooler.dense.bias']\n",
            "You should probably TRAIN this model on a down-stream task to be able to use it for predictions and inference.\n"
          ]
        },
        {
          "output_type": "stream",
          "name": "stdout",
          "text": [
            "ROUGE-1 Precision: 0.1261930010604454\n",
            "ROUGE-1 Recall: 0.7854785478547854\n",
            "ROUGE-1 F1 Score: 0.21745088843253607\n",
            "BERTScore: 0.8214830160140991\n",
            "----------------------\n",
            "File: 2593.txt\n",
            "File exists!\n"
          ]
        },
        {
          "output_type": "stream",
          "name": "stderr",
          "text": [
            "Some weights of RobertaModel were not initialized from the model checkpoint at roberta-large and are newly initialized: ['roberta.pooler.dense.weight', 'roberta.pooler.dense.bias']\n",
            "You should probably TRAIN this model on a down-stream task to be able to use it for predictions and inference.\n"
          ]
        },
        {
          "output_type": "stream",
          "name": "stdout",
          "text": [
            "ROUGE-1 Precision: 0.1407942238267148\n",
            "ROUGE-1 Recall: 0.42391304347826086\n",
            "ROUGE-1 F1 Score: 0.2113821100779225\n",
            "BERTScore: 0.8326550126075745\n",
            "----------------------\n",
            "File: 2122.txt\n",
            "File exists!\n"
          ]
        },
        {
          "output_type": "stream",
          "name": "stderr",
          "text": [
            "Some weights of RobertaModel were not initialized from the model checkpoint at roberta-large and are newly initialized: ['roberta.pooler.dense.weight', 'roberta.pooler.dense.bias']\n",
            "You should probably TRAIN this model on a down-stream task to be able to use it for predictions and inference.\n"
          ]
        },
        {
          "output_type": "stream",
          "name": "stdout",
          "text": [
            "ROUGE-1 Precision: 0.0608875128998968\n",
            "ROUGE-1 Recall: 0.7195121951219512\n",
            "ROUGE-1 F1 Score: 0.11227402329967112\n",
            "BERTScore: 0.8349655270576477\n",
            "----------------------\n",
            "File: 5397.txt\n",
            "File exists!\n"
          ]
        },
        {
          "output_type": "stream",
          "name": "stderr",
          "text": [
            "Some weights of RobertaModel were not initialized from the model checkpoint at roberta-large and are newly initialized: ['roberta.pooler.dense.weight', 'roberta.pooler.dense.bias']\n",
            "You should probably TRAIN this model on a down-stream task to be able to use it for predictions and inference.\n"
          ]
        },
        {
          "output_type": "stream",
          "name": "stdout",
          "text": [
            "ROUGE-1 Precision: 0.20430107526881722\n",
            "ROUGE-1 Recall: 0.57\n",
            "ROUGE-1 F1 Score: 0.30079155284354747\n",
            "BERTScore: 0.8546050190925598\n",
            "----------------------\n",
            "File: 1531.txt\n",
            "File exists!\n"
          ]
        },
        {
          "output_type": "stream",
          "name": "stderr",
          "text": [
            "Some weights of RobertaModel were not initialized from the model checkpoint at roberta-large and are newly initialized: ['roberta.pooler.dense.weight', 'roberta.pooler.dense.bias']\n",
            "You should probably TRAIN this model on a down-stream task to be able to use it for predictions and inference.\n"
          ]
        },
        {
          "output_type": "stream",
          "name": "stdout",
          "text": [
            "ROUGE-1 Precision: 0.358695652173913\n",
            "ROUGE-1 Recall: 0.5409836065573771\n",
            "ROUGE-1 F1 Score: 0.43137254422487087\n",
            "BERTScore: 0.8588889241218567\n",
            "----------------------\n",
            "File: 1974.txt\n",
            "File exists!\n"
          ]
        },
        {
          "output_type": "stream",
          "name": "stderr",
          "text": [
            "Some weights of RobertaModel were not initialized from the model checkpoint at roberta-large and are newly initialized: ['roberta.pooler.dense.weight', 'roberta.pooler.dense.bias']\n",
            "You should probably TRAIN this model on a down-stream task to be able to use it for predictions and inference.\n"
          ]
        },
        {
          "output_type": "stream",
          "name": "stdout",
          "text": [
            "ROUGE-1 Precision: 0.30603448275862066\n",
            "ROUGE-1 Recall: 0.46405228758169936\n",
            "ROUGE-1 F1 Score: 0.36883116404169336\n",
            "BERTScore: 0.851808488368988\n",
            "----------------------\n",
            "File: 6881.txt\n",
            "File exists!\n"
          ]
        },
        {
          "output_type": "stream",
          "name": "stderr",
          "text": [
            "Some weights of RobertaModel were not initialized from the model checkpoint at roberta-large and are newly initialized: ['roberta.pooler.dense.weight', 'roberta.pooler.dense.bias']\n",
            "You should probably TRAIN this model on a down-stream task to be able to use it for predictions and inference.\n"
          ]
        },
        {
          "output_type": "stream",
          "name": "stdout",
          "text": [
            "ROUGE-1 Precision: 0.14714714714714713\n",
            "ROUGE-1 Recall: 0.48514851485148514\n",
            "ROUGE-1 F1 Score: 0.22580644804168704\n",
            "BERTScore: 0.8159461617469788\n",
            "----------------------\n",
            "File: 4917.txt\n",
            "File exists!\n"
          ]
        },
        {
          "output_type": "stream",
          "name": "stderr",
          "text": [
            "Some weights of RobertaModel were not initialized from the model checkpoint at roberta-large and are newly initialized: ['roberta.pooler.dense.weight', 'roberta.pooler.dense.bias']\n",
            "You should probably TRAIN this model on a down-stream task to be able to use it for predictions and inference.\n"
          ]
        },
        {
          "output_type": "stream",
          "name": "stdout",
          "text": [
            "ROUGE-1 Precision: 0.0632295719844358\n",
            "ROUGE-1 Recall: 0.5462184873949579\n",
            "ROUGE-1 F1 Score: 0.11333914373750865\n",
            "BERTScore: 0.8215935826301575\n",
            "----------------------\n",
            "File: 4568.txt\n",
            "File exists!\n"
          ]
        },
        {
          "output_type": "stream",
          "name": "stderr",
          "text": [
            "Some weights of RobertaModel were not initialized from the model checkpoint at roberta-large and are newly initialized: ['roberta.pooler.dense.weight', 'roberta.pooler.dense.bias']\n",
            "You should probably TRAIN this model on a down-stream task to be able to use it for predictions and inference.\n"
          ]
        },
        {
          "output_type": "stream",
          "name": "stdout",
          "text": [
            "ROUGE-1 Precision: 0.2543859649122807\n",
            "ROUGE-1 Recall: 0.7131147540983607\n",
            "ROUGE-1 F1 Score: 0.37499999612403395\n",
            "BERTScore: 0.8647008538246155\n",
            "----------------------\n",
            "File: 2440.txt\n",
            "File exists!\n"
          ]
        },
        {
          "output_type": "stream",
          "name": "stderr",
          "text": [
            "Some weights of RobertaModel were not initialized from the model checkpoint at roberta-large and are newly initialized: ['roberta.pooler.dense.weight', 'roberta.pooler.dense.bias']\n",
            "You should probably TRAIN this model on a down-stream task to be able to use it for predictions and inference.\n"
          ]
        },
        {
          "output_type": "stream",
          "name": "stdout",
          "text": [
            "ROUGE-1 Precision: 0.17493472584856398\n",
            "ROUGE-1 Recall: 0.536\n",
            "ROUGE-1 F1 Score: 0.26377952384873526\n",
            "BERTScore: 0.8384582996368408\n",
            "----------------------\n",
            "File: 4963.txt\n",
            "File exists!\n"
          ]
        },
        {
          "output_type": "stream",
          "name": "stderr",
          "text": [
            "Some weights of RobertaModel were not initialized from the model checkpoint at roberta-large and are newly initialized: ['roberta.pooler.dense.weight', 'roberta.pooler.dense.bias']\n",
            "You should probably TRAIN this model on a down-stream task to be able to use it for predictions and inference.\n"
          ]
        },
        {
          "output_type": "stream",
          "name": "stdout",
          "text": [
            "ROUGE-1 Precision: 0.2125984251968504\n",
            "ROUGE-1 Recall: 0.6\n",
            "ROUGE-1 F1 Score: 0.3139534845085182\n",
            "BERTScore: 0.833879828453064\n",
            "----------------------\n",
            "File: 4782.txt\n",
            "File exists!\n"
          ]
        },
        {
          "output_type": "stream",
          "name": "stderr",
          "text": [
            "Some weights of RobertaModel were not initialized from the model checkpoint at roberta-large and are newly initialized: ['roberta.pooler.dense.weight', 'roberta.pooler.dense.bias']\n",
            "You should probably TRAIN this model on a down-stream task to be able to use it for predictions and inference.\n"
          ]
        },
        {
          "output_type": "stream",
          "name": "stdout",
          "text": [
            "ROUGE-1 Precision: 0.14153846153846153\n",
            "ROUGE-1 Recall: 0.5168539325842697\n",
            "ROUGE-1 F1 Score: 0.22222221884699764\n",
            "BERTScore: 0.8304246664047241\n",
            "----------------------\n",
            "Average BERTScore: 16.796415\n",
            "Average ROUGE-1 Precision Score: 4.256207\n",
            "Average ROUGE-1 Recall Score: 10.596871\n",
            "Average ROUGE-1 F1 Score: 5.768503\n",
            "File 1 - BERTScore Precision: 0.053008, BERTScore Recall: 0.613793\n",
            "File 2 - BERTScore Precision: 0.172414, BERTScore Recall: 0.290698\n",
            "File 3 - BERTScore Precision: 0.180556, BERTScore Recall: 0.364486\n",
            "File 4 - BERTScore Precision: 0.122150, BERTScore Recall: 0.688073\n",
            "File 5 - BERTScore Precision: 0.513274, BERTScore Recall: 0.527273\n",
            "File 6 - BERTScore Precision: 0.319277, BERTScore Recall: 0.430894\n",
            "File 7 - BERTScore Precision: 0.183673, BERTScore Recall: 0.500000\n",
            "File 8 - BERTScore Precision: 0.167683, BERTScore Recall: 0.491071\n",
            "File 9 - BERTScore Precision: 0.208443, BERTScore Recall: 0.541096\n",
            "File 10 - BERTScore Precision: 0.117647, BERTScore Recall: 0.537634\n",
            "File 11 - BERTScore Precision: 0.300469, BERTScore Recall: 0.474074\n",
            "File 12 - BERTScore Precision: 0.333333, BERTScore Recall: 0.436782\n",
            "File 13 - BERTScore Precision: 0.299296, BERTScore Recall: 0.512048\n",
            "File 14 - BERTScore Precision: 0.343750, BERTScore Recall: 0.706422\n",
            "File 15 - BERTScore Precision: 0.134293, BERTScore Recall: 0.691358\n",
            "File 16 - BERTScore Precision: 0.172000, BERTScore Recall: 0.494253\n",
            "File 17 - BERTScore Precision: 0.267016, BERTScore Recall: 0.383459\n",
            "File 18 - BERTScore Precision: 0.176282, BERTScore Recall: 0.447154\n",
            "File 19 - BERTScore Precision: 0.377451, BERTScore Recall: 0.663793\n",
            "File 20 - BERTScore Precision: 0.309735, BERTScore Recall: 0.437500\n",
            "File 21 - BERTScore Precision: 0.138498, BERTScore Recall: 0.522124\n",
            "File 22 - BERTScore Precision: 0.204678, BERTScore Recall: 0.479452\n",
            "File 23 - BERTScore Precision: 0.202925, BERTScore Recall: 0.523585\n",
            "File 24 - BERTScore Precision: 0.185430, BERTScore Recall: 0.405797\n",
            "File 25 - BERTScore Precision: 0.189362, BERTScore Recall: 0.511494\n",
            "File 26 - BERTScore Precision: 0.282258, BERTScore Recall: 0.486111\n",
            "File 27 - BERTScore Precision: 0.157895, BERTScore Recall: 0.507042\n",
            "File 28 - BERTScore Precision: 0.208877, BERTScore Recall: 0.625000\n",
            "File 29 - BERTScore Precision: 0.126193, BERTScore Recall: 0.785479\n",
            "File 30 - BERTScore Precision: 0.140794, BERTScore Recall: 0.423913\n",
            "File 31 - BERTScore Precision: 0.060888, BERTScore Recall: 0.719512\n",
            "File 32 - BERTScore Precision: 0.204301, BERTScore Recall: 0.570000\n",
            "File 33 - BERTScore Precision: 0.358696, BERTScore Recall: 0.540984\n",
            "File 34 - BERTScore Precision: 0.306034, BERTScore Recall: 0.464052\n",
            "File 35 - BERTScore Precision: 0.147147, BERTScore Recall: 0.485149\n",
            "File 36 - BERTScore Precision: 0.063230, BERTScore Recall: 0.546218\n",
            "File 37 - BERTScore Precision: 0.254386, BERTScore Recall: 0.713115\n",
            "File 38 - BERTScore Precision: 0.174935, BERTScore Recall: 0.536000\n",
            "File 39 - BERTScore Precision: 0.212598, BERTScore Recall: 0.600000\n",
            "File 40 - BERTScore Precision: 0.141538, BERTScore Recall: 0.516854\n"
          ]
        }
      ]
    },
    {
      "cell_type": "code",
      "source": [
        "import tarfile\n",
        "\n",
        "with tarfile.open('./pred.tar', 'w:gz') as tar:\n",
        "    tar.add('./pred', arcname='pred')\n"
      ],
      "metadata": {
        "id": "V7vb9zKAyOFj"
      },
      "execution_count": null,
      "outputs": []
    },
    {
      "cell_type": "code",
      "source": [
        "import tarfile\n",
        "\n",
        "# Replace 'file_path/pred.tar' with the actual path to your 'pred.tar' file\n",
        "file_path = '/content/pred.tar'\n",
        "\n",
        "# Specify the directory where you want to extract the contents\n",
        "extract_dir = '/content/pred'\n",
        "\n",
        "# Open the tar file\n",
        "with tarfile.open(file_path, 'r:gz') as tar:\n",
        "    # Extract all contents to the specified directory\n",
        "    tar.extractall(path=extract_dir)\n",
        "\n",
        "print(f\"Contents extracted to {extract_dir}.\")\n"
      ],
      "metadata": {
        "colab": {
          "base_uri": "https://localhost:8080/"
        },
        "id": "q4UZL2F064iR",
        "outputId": "924ea86a-8623-4f25-b58f-cc8ecd53da0b"
      },
      "execution_count": null,
      "outputs": [
        {
          "output_type": "stream",
          "name": "stdout",
          "text": [
            "Contents extracted to /content/pred.\n"
          ]
        }
      ]
    },
    {
      "cell_type": "code",
      "source": [],
      "metadata": {
        "id": "pNLnMkEM8npK"
      },
      "execution_count": null,
      "outputs": []
    }
  ],
  "metadata": {
    "accelerator": "GPU",
    "colab": {
      "provenance": []
    },
    "kernelspec": {
      "display_name": "Python 3",
      "name": "python3"
    },
    "language_info": {
      "name": "python"
    },
    "widgets": {
      "application/vnd.jupyter.widget-state+json": {
        "c9da6fad974b4ed28abc808d4fb6104e": {
          "model_module": "@jupyter-widgets/controls",
          "model_name": "HBoxModel",
          "model_module_version": "1.5.0",
          "state": {
            "_dom_classes": [],
            "_model_module": "@jupyter-widgets/controls",
            "_model_module_version": "1.5.0",
            "_model_name": "HBoxModel",
            "_view_count": null,
            "_view_module": "@jupyter-widgets/controls",
            "_view_module_version": "1.5.0",
            "_view_name": "HBoxView",
            "box_style": "",
            "children": [
              "IPY_MODEL_ad712158af13465db5db4943c4c563a1",
              "IPY_MODEL_c1a9d3d4d1bf4610abeda4782ef42860",
              "IPY_MODEL_7c16d6a3f26d469783e58adfb581db96"
            ],
            "layout": "IPY_MODEL_2a8320aa03ea491b8f20cbf4f423adeb"
          }
        },
        "ad712158af13465db5db4943c4c563a1": {
          "model_module": "@jupyter-widgets/controls",
          "model_name": "HTMLModel",
          "model_module_version": "1.5.0",
          "state": {
            "_dom_classes": [],
            "_model_module": "@jupyter-widgets/controls",
            "_model_module_version": "1.5.0",
            "_model_name": "HTMLModel",
            "_view_count": null,
            "_view_module": "@jupyter-widgets/controls",
            "_view_module_version": "1.5.0",
            "_view_name": "HTMLView",
            "description": "",
            "description_tooltip": null,
            "layout": "IPY_MODEL_60b22bbfb8ca4a45b783454e1fa7cf73",
            "placeholder": "​",
            "style": "IPY_MODEL_1b8ecb80179c4199b9983ab03443100d",
            "value": "Loading checkpoint shards: 100%"
          }
        },
        "c1a9d3d4d1bf4610abeda4782ef42860": {
          "model_module": "@jupyter-widgets/controls",
          "model_name": "FloatProgressModel",
          "model_module_version": "1.5.0",
          "state": {
            "_dom_classes": [],
            "_model_module": "@jupyter-widgets/controls",
            "_model_module_version": "1.5.0",
            "_model_name": "FloatProgressModel",
            "_view_count": null,
            "_view_module": "@jupyter-widgets/controls",
            "_view_module_version": "1.5.0",
            "_view_name": "ProgressView",
            "bar_style": "success",
            "description": "",
            "description_tooltip": null,
            "layout": "IPY_MODEL_db326fbe6c7f42bea5c63138a12981e4",
            "max": 8,
            "min": 0,
            "orientation": "horizontal",
            "style": "IPY_MODEL_bd221817290d46d1bee3508d0e4a6d09",
            "value": 8
          }
        },
        "7c16d6a3f26d469783e58adfb581db96": {
          "model_module": "@jupyter-widgets/controls",
          "model_name": "HTMLModel",
          "model_module_version": "1.5.0",
          "state": {
            "_dom_classes": [],
            "_model_module": "@jupyter-widgets/controls",
            "_model_module_version": "1.5.0",
            "_model_name": "HTMLModel",
            "_view_count": null,
            "_view_module": "@jupyter-widgets/controls",
            "_view_module_version": "1.5.0",
            "_view_name": "HTMLView",
            "description": "",
            "description_tooltip": null,
            "layout": "IPY_MODEL_a3a445680804481980b6fa548c28a7fe",
            "placeholder": "​",
            "style": "IPY_MODEL_4d5af1c743124205b1ac221d27afa3f1",
            "value": " 8/8 [01:14&lt;00:00,  7.96s/it]"
          }
        },
        "2a8320aa03ea491b8f20cbf4f423adeb": {
          "model_module": "@jupyter-widgets/base",
          "model_name": "LayoutModel",
          "model_module_version": "1.2.0",
          "state": {
            "_model_module": "@jupyter-widgets/base",
            "_model_module_version": "1.2.0",
            "_model_name": "LayoutModel",
            "_view_count": null,
            "_view_module": "@jupyter-widgets/base",
            "_view_module_version": "1.2.0",
            "_view_name": "LayoutView",
            "align_content": null,
            "align_items": null,
            "align_self": null,
            "border": null,
            "bottom": null,
            "display": null,
            "flex": null,
            "flex_flow": null,
            "grid_area": null,
            "grid_auto_columns": null,
            "grid_auto_flow": null,
            "grid_auto_rows": null,
            "grid_column": null,
            "grid_gap": null,
            "grid_row": null,
            "grid_template_areas": null,
            "grid_template_columns": null,
            "grid_template_rows": null,
            "height": null,
            "justify_content": null,
            "justify_items": null,
            "left": null,
            "margin": null,
            "max_height": null,
            "max_width": null,
            "min_height": null,
            "min_width": null,
            "object_fit": null,
            "object_position": null,
            "order": null,
            "overflow": null,
            "overflow_x": null,
            "overflow_y": null,
            "padding": null,
            "right": null,
            "top": null,
            "visibility": null,
            "width": null
          }
        },
        "60b22bbfb8ca4a45b783454e1fa7cf73": {
          "model_module": "@jupyter-widgets/base",
          "model_name": "LayoutModel",
          "model_module_version": "1.2.0",
          "state": {
            "_model_module": "@jupyter-widgets/base",
            "_model_module_version": "1.2.0",
            "_model_name": "LayoutModel",
            "_view_count": null,
            "_view_module": "@jupyter-widgets/base",
            "_view_module_version": "1.2.0",
            "_view_name": "LayoutView",
            "align_content": null,
            "align_items": null,
            "align_self": null,
            "border": null,
            "bottom": null,
            "display": null,
            "flex": null,
            "flex_flow": null,
            "grid_area": null,
            "grid_auto_columns": null,
            "grid_auto_flow": null,
            "grid_auto_rows": null,
            "grid_column": null,
            "grid_gap": null,
            "grid_row": null,
            "grid_template_areas": null,
            "grid_template_columns": null,
            "grid_template_rows": null,
            "height": null,
            "justify_content": null,
            "justify_items": null,
            "left": null,
            "margin": null,
            "max_height": null,
            "max_width": null,
            "min_height": null,
            "min_width": null,
            "object_fit": null,
            "object_position": null,
            "order": null,
            "overflow": null,
            "overflow_x": null,
            "overflow_y": null,
            "padding": null,
            "right": null,
            "top": null,
            "visibility": null,
            "width": null
          }
        },
        "1b8ecb80179c4199b9983ab03443100d": {
          "model_module": "@jupyter-widgets/controls",
          "model_name": "DescriptionStyleModel",
          "model_module_version": "1.5.0",
          "state": {
            "_model_module": "@jupyter-widgets/controls",
            "_model_module_version": "1.5.0",
            "_model_name": "DescriptionStyleModel",
            "_view_count": null,
            "_view_module": "@jupyter-widgets/base",
            "_view_module_version": "1.2.0",
            "_view_name": "StyleView",
            "description_width": ""
          }
        },
        "db326fbe6c7f42bea5c63138a12981e4": {
          "model_module": "@jupyter-widgets/base",
          "model_name": "LayoutModel",
          "model_module_version": "1.2.0",
          "state": {
            "_model_module": "@jupyter-widgets/base",
            "_model_module_version": "1.2.0",
            "_model_name": "LayoutModel",
            "_view_count": null,
            "_view_module": "@jupyter-widgets/base",
            "_view_module_version": "1.2.0",
            "_view_name": "LayoutView",
            "align_content": null,
            "align_items": null,
            "align_self": null,
            "border": null,
            "bottom": null,
            "display": null,
            "flex": null,
            "flex_flow": null,
            "grid_area": null,
            "grid_auto_columns": null,
            "grid_auto_flow": null,
            "grid_auto_rows": null,
            "grid_column": null,
            "grid_gap": null,
            "grid_row": null,
            "grid_template_areas": null,
            "grid_template_columns": null,
            "grid_template_rows": null,
            "height": null,
            "justify_content": null,
            "justify_items": null,
            "left": null,
            "margin": null,
            "max_height": null,
            "max_width": null,
            "min_height": null,
            "min_width": null,
            "object_fit": null,
            "object_position": null,
            "order": null,
            "overflow": null,
            "overflow_x": null,
            "overflow_y": null,
            "padding": null,
            "right": null,
            "top": null,
            "visibility": null,
            "width": null
          }
        },
        "bd221817290d46d1bee3508d0e4a6d09": {
          "model_module": "@jupyter-widgets/controls",
          "model_name": "ProgressStyleModel",
          "model_module_version": "1.5.0",
          "state": {
            "_model_module": "@jupyter-widgets/controls",
            "_model_module_version": "1.5.0",
            "_model_name": "ProgressStyleModel",
            "_view_count": null,
            "_view_module": "@jupyter-widgets/base",
            "_view_module_version": "1.2.0",
            "_view_name": "StyleView",
            "bar_color": null,
            "description_width": ""
          }
        },
        "a3a445680804481980b6fa548c28a7fe": {
          "model_module": "@jupyter-widgets/base",
          "model_name": "LayoutModel",
          "model_module_version": "1.2.0",
          "state": {
            "_model_module": "@jupyter-widgets/base",
            "_model_module_version": "1.2.0",
            "_model_name": "LayoutModel",
            "_view_count": null,
            "_view_module": "@jupyter-widgets/base",
            "_view_module_version": "1.2.0",
            "_view_name": "LayoutView",
            "align_content": null,
            "align_items": null,
            "align_self": null,
            "border": null,
            "bottom": null,
            "display": null,
            "flex": null,
            "flex_flow": null,
            "grid_area": null,
            "grid_auto_columns": null,
            "grid_auto_flow": null,
            "grid_auto_rows": null,
            "grid_column": null,
            "grid_gap": null,
            "grid_row": null,
            "grid_template_areas": null,
            "grid_template_columns": null,
            "grid_template_rows": null,
            "height": null,
            "justify_content": null,
            "justify_items": null,
            "left": null,
            "margin": null,
            "max_height": null,
            "max_width": null,
            "min_height": null,
            "min_width": null,
            "object_fit": null,
            "object_position": null,
            "order": null,
            "overflow": null,
            "overflow_x": null,
            "overflow_y": null,
            "padding": null,
            "right": null,
            "top": null,
            "visibility": null,
            "width": null
          }
        },
        "4d5af1c743124205b1ac221d27afa3f1": {
          "model_module": "@jupyter-widgets/controls",
          "model_name": "DescriptionStyleModel",
          "model_module_version": "1.5.0",
          "state": {
            "_model_module": "@jupyter-widgets/controls",
            "_model_module_version": "1.5.0",
            "_model_name": "DescriptionStyleModel",
            "_view_count": null,
            "_view_module": "@jupyter-widgets/base",
            "_view_module_version": "1.2.0",
            "_view_name": "StyleView",
            "description_width": ""
          }
        },
        "6aa97991cae5495ebf8a1ee69b976b60": {
          "model_module": "@jupyter-widgets/controls",
          "model_name": "HBoxModel",
          "model_module_version": "1.5.0",
          "state": {
            "_dom_classes": [],
            "_model_module": "@jupyter-widgets/controls",
            "_model_module_version": "1.5.0",
            "_model_name": "HBoxModel",
            "_view_count": null,
            "_view_module": "@jupyter-widgets/controls",
            "_view_module_version": "1.5.0",
            "_view_name": "HBoxView",
            "box_style": "",
            "children": [
              "IPY_MODEL_7df8cc683a7c49beb1e6ffc17475cccf",
              "IPY_MODEL_430a706f92f94eadaac363105c4e14d0",
              "IPY_MODEL_75ee266df53a496893546497db822157"
            ],
            "layout": "IPY_MODEL_f727597cc68b45f49adb5ace1039887e"
          }
        },
        "7df8cc683a7c49beb1e6ffc17475cccf": {
          "model_module": "@jupyter-widgets/controls",
          "model_name": "HTMLModel",
          "model_module_version": "1.5.0",
          "state": {
            "_dom_classes": [],
            "_model_module": "@jupyter-widgets/controls",
            "_model_module_version": "1.5.0",
            "_model_name": "HTMLModel",
            "_view_count": null,
            "_view_module": "@jupyter-widgets/controls",
            "_view_module_version": "1.5.0",
            "_view_name": "HTMLView",
            "description": "",
            "description_tooltip": null,
            "layout": "IPY_MODEL_f47850bf2d2148179ac68c01a7493e47",
            "placeholder": "​",
            "style": "IPY_MODEL_8ca6abb5e0464bce8222f61a7e74ec64",
            "value": "(…)o/roberta-large/resolve/main/config.json: 100%"
          }
        },
        "430a706f92f94eadaac363105c4e14d0": {
          "model_module": "@jupyter-widgets/controls",
          "model_name": "FloatProgressModel",
          "model_module_version": "1.5.0",
          "state": {
            "_dom_classes": [],
            "_model_module": "@jupyter-widgets/controls",
            "_model_module_version": "1.5.0",
            "_model_name": "FloatProgressModel",
            "_view_count": null,
            "_view_module": "@jupyter-widgets/controls",
            "_view_module_version": "1.5.0",
            "_view_name": "ProgressView",
            "bar_style": "success",
            "description": "",
            "description_tooltip": null,
            "layout": "IPY_MODEL_57fc25082c6c4b16bfd612aaca2471cc",
            "max": 482,
            "min": 0,
            "orientation": "horizontal",
            "style": "IPY_MODEL_f810196d885f4b019cd941d42335f320",
            "value": 482
          }
        },
        "75ee266df53a496893546497db822157": {
          "model_module": "@jupyter-widgets/controls",
          "model_name": "HTMLModel",
          "model_module_version": "1.5.0",
          "state": {
            "_dom_classes": [],
            "_model_module": "@jupyter-widgets/controls",
            "_model_module_version": "1.5.0",
            "_model_name": "HTMLModel",
            "_view_count": null,
            "_view_module": "@jupyter-widgets/controls",
            "_view_module_version": "1.5.0",
            "_view_name": "HTMLView",
            "description": "",
            "description_tooltip": null,
            "layout": "IPY_MODEL_9e449e0425f0499894ec17174197ae9b",
            "placeholder": "​",
            "style": "IPY_MODEL_527aebaae9a54235a3735ae9b50fa7ff",
            "value": " 482/482 [00:00&lt;00:00, 20.3kB/s]"
          }
        },
        "f727597cc68b45f49adb5ace1039887e": {
          "model_module": "@jupyter-widgets/base",
          "model_name": "LayoutModel",
          "model_module_version": "1.2.0",
          "state": {
            "_model_module": "@jupyter-widgets/base",
            "_model_module_version": "1.2.0",
            "_model_name": "LayoutModel",
            "_view_count": null,
            "_view_module": "@jupyter-widgets/base",
            "_view_module_version": "1.2.0",
            "_view_name": "LayoutView",
            "align_content": null,
            "align_items": null,
            "align_self": null,
            "border": null,
            "bottom": null,
            "display": null,
            "flex": null,
            "flex_flow": null,
            "grid_area": null,
            "grid_auto_columns": null,
            "grid_auto_flow": null,
            "grid_auto_rows": null,
            "grid_column": null,
            "grid_gap": null,
            "grid_row": null,
            "grid_template_areas": null,
            "grid_template_columns": null,
            "grid_template_rows": null,
            "height": null,
            "justify_content": null,
            "justify_items": null,
            "left": null,
            "margin": null,
            "max_height": null,
            "max_width": null,
            "min_height": null,
            "min_width": null,
            "object_fit": null,
            "object_position": null,
            "order": null,
            "overflow": null,
            "overflow_x": null,
            "overflow_y": null,
            "padding": null,
            "right": null,
            "top": null,
            "visibility": null,
            "width": null
          }
        },
        "f47850bf2d2148179ac68c01a7493e47": {
          "model_module": "@jupyter-widgets/base",
          "model_name": "LayoutModel",
          "model_module_version": "1.2.0",
          "state": {
            "_model_module": "@jupyter-widgets/base",
            "_model_module_version": "1.2.0",
            "_model_name": "LayoutModel",
            "_view_count": null,
            "_view_module": "@jupyter-widgets/base",
            "_view_module_version": "1.2.0",
            "_view_name": "LayoutView",
            "align_content": null,
            "align_items": null,
            "align_self": null,
            "border": null,
            "bottom": null,
            "display": null,
            "flex": null,
            "flex_flow": null,
            "grid_area": null,
            "grid_auto_columns": null,
            "grid_auto_flow": null,
            "grid_auto_rows": null,
            "grid_column": null,
            "grid_gap": null,
            "grid_row": null,
            "grid_template_areas": null,
            "grid_template_columns": null,
            "grid_template_rows": null,
            "height": null,
            "justify_content": null,
            "justify_items": null,
            "left": null,
            "margin": null,
            "max_height": null,
            "max_width": null,
            "min_height": null,
            "min_width": null,
            "object_fit": null,
            "object_position": null,
            "order": null,
            "overflow": null,
            "overflow_x": null,
            "overflow_y": null,
            "padding": null,
            "right": null,
            "top": null,
            "visibility": null,
            "width": null
          }
        },
        "8ca6abb5e0464bce8222f61a7e74ec64": {
          "model_module": "@jupyter-widgets/controls",
          "model_name": "DescriptionStyleModel",
          "model_module_version": "1.5.0",
          "state": {
            "_model_module": "@jupyter-widgets/controls",
            "_model_module_version": "1.5.0",
            "_model_name": "DescriptionStyleModel",
            "_view_count": null,
            "_view_module": "@jupyter-widgets/base",
            "_view_module_version": "1.2.0",
            "_view_name": "StyleView",
            "description_width": ""
          }
        },
        "57fc25082c6c4b16bfd612aaca2471cc": {
          "model_module": "@jupyter-widgets/base",
          "model_name": "LayoutModel",
          "model_module_version": "1.2.0",
          "state": {
            "_model_module": "@jupyter-widgets/base",
            "_model_module_version": "1.2.0",
            "_model_name": "LayoutModel",
            "_view_count": null,
            "_view_module": "@jupyter-widgets/base",
            "_view_module_version": "1.2.0",
            "_view_name": "LayoutView",
            "align_content": null,
            "align_items": null,
            "align_self": null,
            "border": null,
            "bottom": null,
            "display": null,
            "flex": null,
            "flex_flow": null,
            "grid_area": null,
            "grid_auto_columns": null,
            "grid_auto_flow": null,
            "grid_auto_rows": null,
            "grid_column": null,
            "grid_gap": null,
            "grid_row": null,
            "grid_template_areas": null,
            "grid_template_columns": null,
            "grid_template_rows": null,
            "height": null,
            "justify_content": null,
            "justify_items": null,
            "left": null,
            "margin": null,
            "max_height": null,
            "max_width": null,
            "min_height": null,
            "min_width": null,
            "object_fit": null,
            "object_position": null,
            "order": null,
            "overflow": null,
            "overflow_x": null,
            "overflow_y": null,
            "padding": null,
            "right": null,
            "top": null,
            "visibility": null,
            "width": null
          }
        },
        "f810196d885f4b019cd941d42335f320": {
          "model_module": "@jupyter-widgets/controls",
          "model_name": "ProgressStyleModel",
          "model_module_version": "1.5.0",
          "state": {
            "_model_module": "@jupyter-widgets/controls",
            "_model_module_version": "1.5.0",
            "_model_name": "ProgressStyleModel",
            "_view_count": null,
            "_view_module": "@jupyter-widgets/base",
            "_view_module_version": "1.2.0",
            "_view_name": "StyleView",
            "bar_color": null,
            "description_width": ""
          }
        },
        "9e449e0425f0499894ec17174197ae9b": {
          "model_module": "@jupyter-widgets/base",
          "model_name": "LayoutModel",
          "model_module_version": "1.2.0",
          "state": {
            "_model_module": "@jupyter-widgets/base",
            "_model_module_version": "1.2.0",
            "_model_name": "LayoutModel",
            "_view_count": null,
            "_view_module": "@jupyter-widgets/base",
            "_view_module_version": "1.2.0",
            "_view_name": "LayoutView",
            "align_content": null,
            "align_items": null,
            "align_self": null,
            "border": null,
            "bottom": null,
            "display": null,
            "flex": null,
            "flex_flow": null,
            "grid_area": null,
            "grid_auto_columns": null,
            "grid_auto_flow": null,
            "grid_auto_rows": null,
            "grid_column": null,
            "grid_gap": null,
            "grid_row": null,
            "grid_template_areas": null,
            "grid_template_columns": null,
            "grid_template_rows": null,
            "height": null,
            "justify_content": null,
            "justify_items": null,
            "left": null,
            "margin": null,
            "max_height": null,
            "max_width": null,
            "min_height": null,
            "min_width": null,
            "object_fit": null,
            "object_position": null,
            "order": null,
            "overflow": null,
            "overflow_x": null,
            "overflow_y": null,
            "padding": null,
            "right": null,
            "top": null,
            "visibility": null,
            "width": null
          }
        },
        "527aebaae9a54235a3735ae9b50fa7ff": {
          "model_module": "@jupyter-widgets/controls",
          "model_name": "DescriptionStyleModel",
          "model_module_version": "1.5.0",
          "state": {
            "_model_module": "@jupyter-widgets/controls",
            "_model_module_version": "1.5.0",
            "_model_name": "DescriptionStyleModel",
            "_view_count": null,
            "_view_module": "@jupyter-widgets/base",
            "_view_module_version": "1.2.0",
            "_view_name": "StyleView",
            "description_width": ""
          }
        },
        "9d0f88e7e80947c684a363b0b2a69093": {
          "model_module": "@jupyter-widgets/controls",
          "model_name": "HBoxModel",
          "model_module_version": "1.5.0",
          "state": {
            "_dom_classes": [],
            "_model_module": "@jupyter-widgets/controls",
            "_model_module_version": "1.5.0",
            "_model_name": "HBoxModel",
            "_view_count": null,
            "_view_module": "@jupyter-widgets/controls",
            "_view_module_version": "1.5.0",
            "_view_name": "HBoxView",
            "box_style": "",
            "children": [
              "IPY_MODEL_b9c80b8880ad48c58d6a7b26a1cf82e3",
              "IPY_MODEL_3b1d147493fa4793acdbdb286aad8c1b",
              "IPY_MODEL_e600b66d323348b598c84d05a4042693"
            ],
            "layout": "IPY_MODEL_2523134d47f941b6b8d1c8c7eead36ca"
          }
        },
        "b9c80b8880ad48c58d6a7b26a1cf82e3": {
          "model_module": "@jupyter-widgets/controls",
          "model_name": "HTMLModel",
          "model_module_version": "1.5.0",
          "state": {
            "_dom_classes": [],
            "_model_module": "@jupyter-widgets/controls",
            "_model_module_version": "1.5.0",
            "_model_name": "HTMLModel",
            "_view_count": null,
            "_view_module": "@jupyter-widgets/controls",
            "_view_module_version": "1.5.0",
            "_view_name": "HTMLView",
            "description": "",
            "description_tooltip": null,
            "layout": "IPY_MODEL_b94cd2ad52ad4c089e4f7160e39b3aa4",
            "placeholder": "​",
            "style": "IPY_MODEL_a03655bc71464bd3b89aeb98a06123e5",
            "value": "(…)co/roberta-large/resolve/main/vocab.json: 100%"
          }
        },
        "3b1d147493fa4793acdbdb286aad8c1b": {
          "model_module": "@jupyter-widgets/controls",
          "model_name": "FloatProgressModel",
          "model_module_version": "1.5.0",
          "state": {
            "_dom_classes": [],
            "_model_module": "@jupyter-widgets/controls",
            "_model_module_version": "1.5.0",
            "_model_name": "FloatProgressModel",
            "_view_count": null,
            "_view_module": "@jupyter-widgets/controls",
            "_view_module_version": "1.5.0",
            "_view_name": "ProgressView",
            "bar_style": "success",
            "description": "",
            "description_tooltip": null,
            "layout": "IPY_MODEL_266b9e840f614d4aa3342913f91ac13f",
            "max": 898823,
            "min": 0,
            "orientation": "horizontal",
            "style": "IPY_MODEL_82112a2182de42c492d5e405c22b8617",
            "value": 898823
          }
        },
        "e600b66d323348b598c84d05a4042693": {
          "model_module": "@jupyter-widgets/controls",
          "model_name": "HTMLModel",
          "model_module_version": "1.5.0",
          "state": {
            "_dom_classes": [],
            "_model_module": "@jupyter-widgets/controls",
            "_model_module_version": "1.5.0",
            "_model_name": "HTMLModel",
            "_view_count": null,
            "_view_module": "@jupyter-widgets/controls",
            "_view_module_version": "1.5.0",
            "_view_name": "HTMLView",
            "description": "",
            "description_tooltip": null,
            "layout": "IPY_MODEL_5f4eb8d534c7460a9e97fed1a812471b",
            "placeholder": "​",
            "style": "IPY_MODEL_d864ba9ff43f40b098f91c979a150ae4",
            "value": " 899k/899k [00:00&lt;00:00, 3.69MB/s]"
          }
        },
        "2523134d47f941b6b8d1c8c7eead36ca": {
          "model_module": "@jupyter-widgets/base",
          "model_name": "LayoutModel",
          "model_module_version": "1.2.0",
          "state": {
            "_model_module": "@jupyter-widgets/base",
            "_model_module_version": "1.2.0",
            "_model_name": "LayoutModel",
            "_view_count": null,
            "_view_module": "@jupyter-widgets/base",
            "_view_module_version": "1.2.0",
            "_view_name": "LayoutView",
            "align_content": null,
            "align_items": null,
            "align_self": null,
            "border": null,
            "bottom": null,
            "display": null,
            "flex": null,
            "flex_flow": null,
            "grid_area": null,
            "grid_auto_columns": null,
            "grid_auto_flow": null,
            "grid_auto_rows": null,
            "grid_column": null,
            "grid_gap": null,
            "grid_row": null,
            "grid_template_areas": null,
            "grid_template_columns": null,
            "grid_template_rows": null,
            "height": null,
            "justify_content": null,
            "justify_items": null,
            "left": null,
            "margin": null,
            "max_height": null,
            "max_width": null,
            "min_height": null,
            "min_width": null,
            "object_fit": null,
            "object_position": null,
            "order": null,
            "overflow": null,
            "overflow_x": null,
            "overflow_y": null,
            "padding": null,
            "right": null,
            "top": null,
            "visibility": null,
            "width": null
          }
        },
        "b94cd2ad52ad4c089e4f7160e39b3aa4": {
          "model_module": "@jupyter-widgets/base",
          "model_name": "LayoutModel",
          "model_module_version": "1.2.0",
          "state": {
            "_model_module": "@jupyter-widgets/base",
            "_model_module_version": "1.2.0",
            "_model_name": "LayoutModel",
            "_view_count": null,
            "_view_module": "@jupyter-widgets/base",
            "_view_module_version": "1.2.0",
            "_view_name": "LayoutView",
            "align_content": null,
            "align_items": null,
            "align_self": null,
            "border": null,
            "bottom": null,
            "display": null,
            "flex": null,
            "flex_flow": null,
            "grid_area": null,
            "grid_auto_columns": null,
            "grid_auto_flow": null,
            "grid_auto_rows": null,
            "grid_column": null,
            "grid_gap": null,
            "grid_row": null,
            "grid_template_areas": null,
            "grid_template_columns": null,
            "grid_template_rows": null,
            "height": null,
            "justify_content": null,
            "justify_items": null,
            "left": null,
            "margin": null,
            "max_height": null,
            "max_width": null,
            "min_height": null,
            "min_width": null,
            "object_fit": null,
            "object_position": null,
            "order": null,
            "overflow": null,
            "overflow_x": null,
            "overflow_y": null,
            "padding": null,
            "right": null,
            "top": null,
            "visibility": null,
            "width": null
          }
        },
        "a03655bc71464bd3b89aeb98a06123e5": {
          "model_module": "@jupyter-widgets/controls",
          "model_name": "DescriptionStyleModel",
          "model_module_version": "1.5.0",
          "state": {
            "_model_module": "@jupyter-widgets/controls",
            "_model_module_version": "1.5.0",
            "_model_name": "DescriptionStyleModel",
            "_view_count": null,
            "_view_module": "@jupyter-widgets/base",
            "_view_module_version": "1.2.0",
            "_view_name": "StyleView",
            "description_width": ""
          }
        },
        "266b9e840f614d4aa3342913f91ac13f": {
          "model_module": "@jupyter-widgets/base",
          "model_name": "LayoutModel",
          "model_module_version": "1.2.0",
          "state": {
            "_model_module": "@jupyter-widgets/base",
            "_model_module_version": "1.2.0",
            "_model_name": "LayoutModel",
            "_view_count": null,
            "_view_module": "@jupyter-widgets/base",
            "_view_module_version": "1.2.0",
            "_view_name": "LayoutView",
            "align_content": null,
            "align_items": null,
            "align_self": null,
            "border": null,
            "bottom": null,
            "display": null,
            "flex": null,
            "flex_flow": null,
            "grid_area": null,
            "grid_auto_columns": null,
            "grid_auto_flow": null,
            "grid_auto_rows": null,
            "grid_column": null,
            "grid_gap": null,
            "grid_row": null,
            "grid_template_areas": null,
            "grid_template_columns": null,
            "grid_template_rows": null,
            "height": null,
            "justify_content": null,
            "justify_items": null,
            "left": null,
            "margin": null,
            "max_height": null,
            "max_width": null,
            "min_height": null,
            "min_width": null,
            "object_fit": null,
            "object_position": null,
            "order": null,
            "overflow": null,
            "overflow_x": null,
            "overflow_y": null,
            "padding": null,
            "right": null,
            "top": null,
            "visibility": null,
            "width": null
          }
        },
        "82112a2182de42c492d5e405c22b8617": {
          "model_module": "@jupyter-widgets/controls",
          "model_name": "ProgressStyleModel",
          "model_module_version": "1.5.0",
          "state": {
            "_model_module": "@jupyter-widgets/controls",
            "_model_module_version": "1.5.0",
            "_model_name": "ProgressStyleModel",
            "_view_count": null,
            "_view_module": "@jupyter-widgets/base",
            "_view_module_version": "1.2.0",
            "_view_name": "StyleView",
            "bar_color": null,
            "description_width": ""
          }
        },
        "5f4eb8d534c7460a9e97fed1a812471b": {
          "model_module": "@jupyter-widgets/base",
          "model_name": "LayoutModel",
          "model_module_version": "1.2.0",
          "state": {
            "_model_module": "@jupyter-widgets/base",
            "_model_module_version": "1.2.0",
            "_model_name": "LayoutModel",
            "_view_count": null,
            "_view_module": "@jupyter-widgets/base",
            "_view_module_version": "1.2.0",
            "_view_name": "LayoutView",
            "align_content": null,
            "align_items": null,
            "align_self": null,
            "border": null,
            "bottom": null,
            "display": null,
            "flex": null,
            "flex_flow": null,
            "grid_area": null,
            "grid_auto_columns": null,
            "grid_auto_flow": null,
            "grid_auto_rows": null,
            "grid_column": null,
            "grid_gap": null,
            "grid_row": null,
            "grid_template_areas": null,
            "grid_template_columns": null,
            "grid_template_rows": null,
            "height": null,
            "justify_content": null,
            "justify_items": null,
            "left": null,
            "margin": null,
            "max_height": null,
            "max_width": null,
            "min_height": null,
            "min_width": null,
            "object_fit": null,
            "object_position": null,
            "order": null,
            "overflow": null,
            "overflow_x": null,
            "overflow_y": null,
            "padding": null,
            "right": null,
            "top": null,
            "visibility": null,
            "width": null
          }
        },
        "d864ba9ff43f40b098f91c979a150ae4": {
          "model_module": "@jupyter-widgets/controls",
          "model_name": "DescriptionStyleModel",
          "model_module_version": "1.5.0",
          "state": {
            "_model_module": "@jupyter-widgets/controls",
            "_model_module_version": "1.5.0",
            "_model_name": "DescriptionStyleModel",
            "_view_count": null,
            "_view_module": "@jupyter-widgets/base",
            "_view_module_version": "1.2.0",
            "_view_name": "StyleView",
            "description_width": ""
          }
        },
        "d5c3ae408fb3430a822d50d58d32f33a": {
          "model_module": "@jupyter-widgets/controls",
          "model_name": "HBoxModel",
          "model_module_version": "1.5.0",
          "state": {
            "_dom_classes": [],
            "_model_module": "@jupyter-widgets/controls",
            "_model_module_version": "1.5.0",
            "_model_name": "HBoxModel",
            "_view_count": null,
            "_view_module": "@jupyter-widgets/controls",
            "_view_module_version": "1.5.0",
            "_view_name": "HBoxView",
            "box_style": "",
            "children": [
              "IPY_MODEL_26484be5c6424ba2b9d6df9d2dc7baa2",
              "IPY_MODEL_d261a3cd6aca4ca7806667a23b9fe21e",
              "IPY_MODEL_739c43d5a8bd438bbf0b57bacb404de5"
            ],
            "layout": "IPY_MODEL_12a479451ac840fa80ca079cd2972114"
          }
        },
        "26484be5c6424ba2b9d6df9d2dc7baa2": {
          "model_module": "@jupyter-widgets/controls",
          "model_name": "HTMLModel",
          "model_module_version": "1.5.0",
          "state": {
            "_dom_classes": [],
            "_model_module": "@jupyter-widgets/controls",
            "_model_module_version": "1.5.0",
            "_model_name": "HTMLModel",
            "_view_count": null,
            "_view_module": "@jupyter-widgets/controls",
            "_view_module_version": "1.5.0",
            "_view_name": "HTMLView",
            "description": "",
            "description_tooltip": null,
            "layout": "IPY_MODEL_0b5003c76dd6482584418cf2d9e21110",
            "placeholder": "​",
            "style": "IPY_MODEL_f831f6d582e84f3f88872c47f6daf5c9",
            "value": "(…)co/roberta-large/resolve/main/merges.txt: 100%"
          }
        },
        "d261a3cd6aca4ca7806667a23b9fe21e": {
          "model_module": "@jupyter-widgets/controls",
          "model_name": "FloatProgressModel",
          "model_module_version": "1.5.0",
          "state": {
            "_dom_classes": [],
            "_model_module": "@jupyter-widgets/controls",
            "_model_module_version": "1.5.0",
            "_model_name": "FloatProgressModel",
            "_view_count": null,
            "_view_module": "@jupyter-widgets/controls",
            "_view_module_version": "1.5.0",
            "_view_name": "ProgressView",
            "bar_style": "success",
            "description": "",
            "description_tooltip": null,
            "layout": "IPY_MODEL_c7fc1735084541d9a308e0f425bc82cd",
            "max": 456318,
            "min": 0,
            "orientation": "horizontal",
            "style": "IPY_MODEL_21ef4d7bd2234f07b472cbe58b6ccb8a",
            "value": 456318
          }
        },
        "739c43d5a8bd438bbf0b57bacb404de5": {
          "model_module": "@jupyter-widgets/controls",
          "model_name": "HTMLModel",
          "model_module_version": "1.5.0",
          "state": {
            "_dom_classes": [],
            "_model_module": "@jupyter-widgets/controls",
            "_model_module_version": "1.5.0",
            "_model_name": "HTMLModel",
            "_view_count": null,
            "_view_module": "@jupyter-widgets/controls",
            "_view_module_version": "1.5.0",
            "_view_name": "HTMLView",
            "description": "",
            "description_tooltip": null,
            "layout": "IPY_MODEL_54faef0e746a443ba30b87813342402c",
            "placeholder": "​",
            "style": "IPY_MODEL_468e99569a1a4203bfe31dc881786bb1",
            "value": " 456k/456k [00:00&lt;00:00, 22.2MB/s]"
          }
        },
        "12a479451ac840fa80ca079cd2972114": {
          "model_module": "@jupyter-widgets/base",
          "model_name": "LayoutModel",
          "model_module_version": "1.2.0",
          "state": {
            "_model_module": "@jupyter-widgets/base",
            "_model_module_version": "1.2.0",
            "_model_name": "LayoutModel",
            "_view_count": null,
            "_view_module": "@jupyter-widgets/base",
            "_view_module_version": "1.2.0",
            "_view_name": "LayoutView",
            "align_content": null,
            "align_items": null,
            "align_self": null,
            "border": null,
            "bottom": null,
            "display": null,
            "flex": null,
            "flex_flow": null,
            "grid_area": null,
            "grid_auto_columns": null,
            "grid_auto_flow": null,
            "grid_auto_rows": null,
            "grid_column": null,
            "grid_gap": null,
            "grid_row": null,
            "grid_template_areas": null,
            "grid_template_columns": null,
            "grid_template_rows": null,
            "height": null,
            "justify_content": null,
            "justify_items": null,
            "left": null,
            "margin": null,
            "max_height": null,
            "max_width": null,
            "min_height": null,
            "min_width": null,
            "object_fit": null,
            "object_position": null,
            "order": null,
            "overflow": null,
            "overflow_x": null,
            "overflow_y": null,
            "padding": null,
            "right": null,
            "top": null,
            "visibility": null,
            "width": null
          }
        },
        "0b5003c76dd6482584418cf2d9e21110": {
          "model_module": "@jupyter-widgets/base",
          "model_name": "LayoutModel",
          "model_module_version": "1.2.0",
          "state": {
            "_model_module": "@jupyter-widgets/base",
            "_model_module_version": "1.2.0",
            "_model_name": "LayoutModel",
            "_view_count": null,
            "_view_module": "@jupyter-widgets/base",
            "_view_module_version": "1.2.0",
            "_view_name": "LayoutView",
            "align_content": null,
            "align_items": null,
            "align_self": null,
            "border": null,
            "bottom": null,
            "display": null,
            "flex": null,
            "flex_flow": null,
            "grid_area": null,
            "grid_auto_columns": null,
            "grid_auto_flow": null,
            "grid_auto_rows": null,
            "grid_column": null,
            "grid_gap": null,
            "grid_row": null,
            "grid_template_areas": null,
            "grid_template_columns": null,
            "grid_template_rows": null,
            "height": null,
            "justify_content": null,
            "justify_items": null,
            "left": null,
            "margin": null,
            "max_height": null,
            "max_width": null,
            "min_height": null,
            "min_width": null,
            "object_fit": null,
            "object_position": null,
            "order": null,
            "overflow": null,
            "overflow_x": null,
            "overflow_y": null,
            "padding": null,
            "right": null,
            "top": null,
            "visibility": null,
            "width": null
          }
        },
        "f831f6d582e84f3f88872c47f6daf5c9": {
          "model_module": "@jupyter-widgets/controls",
          "model_name": "DescriptionStyleModel",
          "model_module_version": "1.5.0",
          "state": {
            "_model_module": "@jupyter-widgets/controls",
            "_model_module_version": "1.5.0",
            "_model_name": "DescriptionStyleModel",
            "_view_count": null,
            "_view_module": "@jupyter-widgets/base",
            "_view_module_version": "1.2.0",
            "_view_name": "StyleView",
            "description_width": ""
          }
        },
        "c7fc1735084541d9a308e0f425bc82cd": {
          "model_module": "@jupyter-widgets/base",
          "model_name": "LayoutModel",
          "model_module_version": "1.2.0",
          "state": {
            "_model_module": "@jupyter-widgets/base",
            "_model_module_version": "1.2.0",
            "_model_name": "LayoutModel",
            "_view_count": null,
            "_view_module": "@jupyter-widgets/base",
            "_view_module_version": "1.2.0",
            "_view_name": "LayoutView",
            "align_content": null,
            "align_items": null,
            "align_self": null,
            "border": null,
            "bottom": null,
            "display": null,
            "flex": null,
            "flex_flow": null,
            "grid_area": null,
            "grid_auto_columns": null,
            "grid_auto_flow": null,
            "grid_auto_rows": null,
            "grid_column": null,
            "grid_gap": null,
            "grid_row": null,
            "grid_template_areas": null,
            "grid_template_columns": null,
            "grid_template_rows": null,
            "height": null,
            "justify_content": null,
            "justify_items": null,
            "left": null,
            "margin": null,
            "max_height": null,
            "max_width": null,
            "min_height": null,
            "min_width": null,
            "object_fit": null,
            "object_position": null,
            "order": null,
            "overflow": null,
            "overflow_x": null,
            "overflow_y": null,
            "padding": null,
            "right": null,
            "top": null,
            "visibility": null,
            "width": null
          }
        },
        "21ef4d7bd2234f07b472cbe58b6ccb8a": {
          "model_module": "@jupyter-widgets/controls",
          "model_name": "ProgressStyleModel",
          "model_module_version": "1.5.0",
          "state": {
            "_model_module": "@jupyter-widgets/controls",
            "_model_module_version": "1.5.0",
            "_model_name": "ProgressStyleModel",
            "_view_count": null,
            "_view_module": "@jupyter-widgets/base",
            "_view_module_version": "1.2.0",
            "_view_name": "StyleView",
            "bar_color": null,
            "description_width": ""
          }
        },
        "54faef0e746a443ba30b87813342402c": {
          "model_module": "@jupyter-widgets/base",
          "model_name": "LayoutModel",
          "model_module_version": "1.2.0",
          "state": {
            "_model_module": "@jupyter-widgets/base",
            "_model_module_version": "1.2.0",
            "_model_name": "LayoutModel",
            "_view_count": null,
            "_view_module": "@jupyter-widgets/base",
            "_view_module_version": "1.2.0",
            "_view_name": "LayoutView",
            "align_content": null,
            "align_items": null,
            "align_self": null,
            "border": null,
            "bottom": null,
            "display": null,
            "flex": null,
            "flex_flow": null,
            "grid_area": null,
            "grid_auto_columns": null,
            "grid_auto_flow": null,
            "grid_auto_rows": null,
            "grid_column": null,
            "grid_gap": null,
            "grid_row": null,
            "grid_template_areas": null,
            "grid_template_columns": null,
            "grid_template_rows": null,
            "height": null,
            "justify_content": null,
            "justify_items": null,
            "left": null,
            "margin": null,
            "max_height": null,
            "max_width": null,
            "min_height": null,
            "min_width": null,
            "object_fit": null,
            "object_position": null,
            "order": null,
            "overflow": null,
            "overflow_x": null,
            "overflow_y": null,
            "padding": null,
            "right": null,
            "top": null,
            "visibility": null,
            "width": null
          }
        },
        "468e99569a1a4203bfe31dc881786bb1": {
          "model_module": "@jupyter-widgets/controls",
          "model_name": "DescriptionStyleModel",
          "model_module_version": "1.5.0",
          "state": {
            "_model_module": "@jupyter-widgets/controls",
            "_model_module_version": "1.5.0",
            "_model_name": "DescriptionStyleModel",
            "_view_count": null,
            "_view_module": "@jupyter-widgets/base",
            "_view_module_version": "1.2.0",
            "_view_name": "StyleView",
            "description_width": ""
          }
        },
        "9a4d8f445c0d41bcb9eca0aac4d069e9": {
          "model_module": "@jupyter-widgets/controls",
          "model_name": "HBoxModel",
          "model_module_version": "1.5.0",
          "state": {
            "_dom_classes": [],
            "_model_module": "@jupyter-widgets/controls",
            "_model_module_version": "1.5.0",
            "_model_name": "HBoxModel",
            "_view_count": null,
            "_view_module": "@jupyter-widgets/controls",
            "_view_module_version": "1.5.0",
            "_view_name": "HBoxView",
            "box_style": "",
            "children": [
              "IPY_MODEL_43f0dc76fffe4b3391d640f548f870e5",
              "IPY_MODEL_ae84f757b7694476a945d2aaa6129336",
              "IPY_MODEL_865d1fe00dd24e2398401e34bc3ff26a"
            ],
            "layout": "IPY_MODEL_e8c4e6dd40a24706976abffaf027695f"
          }
        },
        "43f0dc76fffe4b3391d640f548f870e5": {
          "model_module": "@jupyter-widgets/controls",
          "model_name": "HTMLModel",
          "model_module_version": "1.5.0",
          "state": {
            "_dom_classes": [],
            "_model_module": "@jupyter-widgets/controls",
            "_model_module_version": "1.5.0",
            "_model_name": "HTMLModel",
            "_view_count": null,
            "_view_module": "@jupyter-widgets/controls",
            "_view_module_version": "1.5.0",
            "_view_name": "HTMLView",
            "description": "",
            "description_tooltip": null,
            "layout": "IPY_MODEL_20712b74b7a247a2a99315e386f84b84",
            "placeholder": "​",
            "style": "IPY_MODEL_5e1e018570854a8780a234e3e5865d71",
            "value": "(…)oberta-large/resolve/main/tokenizer.json: 100%"
          }
        },
        "ae84f757b7694476a945d2aaa6129336": {
          "model_module": "@jupyter-widgets/controls",
          "model_name": "FloatProgressModel",
          "model_module_version": "1.5.0",
          "state": {
            "_dom_classes": [],
            "_model_module": "@jupyter-widgets/controls",
            "_model_module_version": "1.5.0",
            "_model_name": "FloatProgressModel",
            "_view_count": null,
            "_view_module": "@jupyter-widgets/controls",
            "_view_module_version": "1.5.0",
            "_view_name": "ProgressView",
            "bar_style": "success",
            "description": "",
            "description_tooltip": null,
            "layout": "IPY_MODEL_4c2997019e69473887437d2c704d2ca3",
            "max": 1355863,
            "min": 0,
            "orientation": "horizontal",
            "style": "IPY_MODEL_110420228d184b0eb98817a990bf0693",
            "value": 1355863
          }
        },
        "865d1fe00dd24e2398401e34bc3ff26a": {
          "model_module": "@jupyter-widgets/controls",
          "model_name": "HTMLModel",
          "model_module_version": "1.5.0",
          "state": {
            "_dom_classes": [],
            "_model_module": "@jupyter-widgets/controls",
            "_model_module_version": "1.5.0",
            "_model_name": "HTMLModel",
            "_view_count": null,
            "_view_module": "@jupyter-widgets/controls",
            "_view_module_version": "1.5.0",
            "_view_name": "HTMLView",
            "description": "",
            "description_tooltip": null,
            "layout": "IPY_MODEL_ca695acbc24f4123b7a91a95acaec70b",
            "placeholder": "​",
            "style": "IPY_MODEL_8670761546ba49879bad3568485e30d3",
            "value": " 1.36M/1.36M [00:00&lt;00:00, 5.31MB/s]"
          }
        },
        "e8c4e6dd40a24706976abffaf027695f": {
          "model_module": "@jupyter-widgets/base",
          "model_name": "LayoutModel",
          "model_module_version": "1.2.0",
          "state": {
            "_model_module": "@jupyter-widgets/base",
            "_model_module_version": "1.2.0",
            "_model_name": "LayoutModel",
            "_view_count": null,
            "_view_module": "@jupyter-widgets/base",
            "_view_module_version": "1.2.0",
            "_view_name": "LayoutView",
            "align_content": null,
            "align_items": null,
            "align_self": null,
            "border": null,
            "bottom": null,
            "display": null,
            "flex": null,
            "flex_flow": null,
            "grid_area": null,
            "grid_auto_columns": null,
            "grid_auto_flow": null,
            "grid_auto_rows": null,
            "grid_column": null,
            "grid_gap": null,
            "grid_row": null,
            "grid_template_areas": null,
            "grid_template_columns": null,
            "grid_template_rows": null,
            "height": null,
            "justify_content": null,
            "justify_items": null,
            "left": null,
            "margin": null,
            "max_height": null,
            "max_width": null,
            "min_height": null,
            "min_width": null,
            "object_fit": null,
            "object_position": null,
            "order": null,
            "overflow": null,
            "overflow_x": null,
            "overflow_y": null,
            "padding": null,
            "right": null,
            "top": null,
            "visibility": null,
            "width": null
          }
        },
        "20712b74b7a247a2a99315e386f84b84": {
          "model_module": "@jupyter-widgets/base",
          "model_name": "LayoutModel",
          "model_module_version": "1.2.0",
          "state": {
            "_model_module": "@jupyter-widgets/base",
            "_model_module_version": "1.2.0",
            "_model_name": "LayoutModel",
            "_view_count": null,
            "_view_module": "@jupyter-widgets/base",
            "_view_module_version": "1.2.0",
            "_view_name": "LayoutView",
            "align_content": null,
            "align_items": null,
            "align_self": null,
            "border": null,
            "bottom": null,
            "display": null,
            "flex": null,
            "flex_flow": null,
            "grid_area": null,
            "grid_auto_columns": null,
            "grid_auto_flow": null,
            "grid_auto_rows": null,
            "grid_column": null,
            "grid_gap": null,
            "grid_row": null,
            "grid_template_areas": null,
            "grid_template_columns": null,
            "grid_template_rows": null,
            "height": null,
            "justify_content": null,
            "justify_items": null,
            "left": null,
            "margin": null,
            "max_height": null,
            "max_width": null,
            "min_height": null,
            "min_width": null,
            "object_fit": null,
            "object_position": null,
            "order": null,
            "overflow": null,
            "overflow_x": null,
            "overflow_y": null,
            "padding": null,
            "right": null,
            "top": null,
            "visibility": null,
            "width": null
          }
        },
        "5e1e018570854a8780a234e3e5865d71": {
          "model_module": "@jupyter-widgets/controls",
          "model_name": "DescriptionStyleModel",
          "model_module_version": "1.5.0",
          "state": {
            "_model_module": "@jupyter-widgets/controls",
            "_model_module_version": "1.5.0",
            "_model_name": "DescriptionStyleModel",
            "_view_count": null,
            "_view_module": "@jupyter-widgets/base",
            "_view_module_version": "1.2.0",
            "_view_name": "StyleView",
            "description_width": ""
          }
        },
        "4c2997019e69473887437d2c704d2ca3": {
          "model_module": "@jupyter-widgets/base",
          "model_name": "LayoutModel",
          "model_module_version": "1.2.0",
          "state": {
            "_model_module": "@jupyter-widgets/base",
            "_model_module_version": "1.2.0",
            "_model_name": "LayoutModel",
            "_view_count": null,
            "_view_module": "@jupyter-widgets/base",
            "_view_module_version": "1.2.0",
            "_view_name": "LayoutView",
            "align_content": null,
            "align_items": null,
            "align_self": null,
            "border": null,
            "bottom": null,
            "display": null,
            "flex": null,
            "flex_flow": null,
            "grid_area": null,
            "grid_auto_columns": null,
            "grid_auto_flow": null,
            "grid_auto_rows": null,
            "grid_column": null,
            "grid_gap": null,
            "grid_row": null,
            "grid_template_areas": null,
            "grid_template_columns": null,
            "grid_template_rows": null,
            "height": null,
            "justify_content": null,
            "justify_items": null,
            "left": null,
            "margin": null,
            "max_height": null,
            "max_width": null,
            "min_height": null,
            "min_width": null,
            "object_fit": null,
            "object_position": null,
            "order": null,
            "overflow": null,
            "overflow_x": null,
            "overflow_y": null,
            "padding": null,
            "right": null,
            "top": null,
            "visibility": null,
            "width": null
          }
        },
        "110420228d184b0eb98817a990bf0693": {
          "model_module": "@jupyter-widgets/controls",
          "model_name": "ProgressStyleModel",
          "model_module_version": "1.5.0",
          "state": {
            "_model_module": "@jupyter-widgets/controls",
            "_model_module_version": "1.5.0",
            "_model_name": "ProgressStyleModel",
            "_view_count": null,
            "_view_module": "@jupyter-widgets/base",
            "_view_module_version": "1.2.0",
            "_view_name": "StyleView",
            "bar_color": null,
            "description_width": ""
          }
        },
        "ca695acbc24f4123b7a91a95acaec70b": {
          "model_module": "@jupyter-widgets/base",
          "model_name": "LayoutModel",
          "model_module_version": "1.2.0",
          "state": {
            "_model_module": "@jupyter-widgets/base",
            "_model_module_version": "1.2.0",
            "_model_name": "LayoutModel",
            "_view_count": null,
            "_view_module": "@jupyter-widgets/base",
            "_view_module_version": "1.2.0",
            "_view_name": "LayoutView",
            "align_content": null,
            "align_items": null,
            "align_self": null,
            "border": null,
            "bottom": null,
            "display": null,
            "flex": null,
            "flex_flow": null,
            "grid_area": null,
            "grid_auto_columns": null,
            "grid_auto_flow": null,
            "grid_auto_rows": null,
            "grid_column": null,
            "grid_gap": null,
            "grid_row": null,
            "grid_template_areas": null,
            "grid_template_columns": null,
            "grid_template_rows": null,
            "height": null,
            "justify_content": null,
            "justify_items": null,
            "left": null,
            "margin": null,
            "max_height": null,
            "max_width": null,
            "min_height": null,
            "min_width": null,
            "object_fit": null,
            "object_position": null,
            "order": null,
            "overflow": null,
            "overflow_x": null,
            "overflow_y": null,
            "padding": null,
            "right": null,
            "top": null,
            "visibility": null,
            "width": null
          }
        },
        "8670761546ba49879bad3568485e30d3": {
          "model_module": "@jupyter-widgets/controls",
          "model_name": "DescriptionStyleModel",
          "model_module_version": "1.5.0",
          "state": {
            "_model_module": "@jupyter-widgets/controls",
            "_model_module_version": "1.5.0",
            "_model_name": "DescriptionStyleModel",
            "_view_count": null,
            "_view_module": "@jupyter-widgets/base",
            "_view_module_version": "1.2.0",
            "_view_name": "StyleView",
            "description_width": ""
          }
        },
        "32864e2523c94e918257aa0d4f5f1a11": {
          "model_module": "@jupyter-widgets/controls",
          "model_name": "HBoxModel",
          "model_module_version": "1.5.0",
          "state": {
            "_dom_classes": [],
            "_model_module": "@jupyter-widgets/controls",
            "_model_module_version": "1.5.0",
            "_model_name": "HBoxModel",
            "_view_count": null,
            "_view_module": "@jupyter-widgets/controls",
            "_view_module_version": "1.5.0",
            "_view_name": "HBoxView",
            "box_style": "",
            "children": [
              "IPY_MODEL_7d370c81a4b34f3185d7b1366862a5cd",
              "IPY_MODEL_c3d7035fc2144aeda9d54fe6d9263803",
              "IPY_MODEL_3bb9539fee474b0ab4db82b5cbf46163"
            ],
            "layout": "IPY_MODEL_8a11b601bf424ed4801ccf684383dbdd"
          }
        },
        "7d370c81a4b34f3185d7b1366862a5cd": {
          "model_module": "@jupyter-widgets/controls",
          "model_name": "HTMLModel",
          "model_module_version": "1.5.0",
          "state": {
            "_dom_classes": [],
            "_model_module": "@jupyter-widgets/controls",
            "_model_module_version": "1.5.0",
            "_model_name": "HTMLModel",
            "_view_count": null,
            "_view_module": "@jupyter-widgets/controls",
            "_view_module_version": "1.5.0",
            "_view_name": "HTMLView",
            "description": "",
            "description_tooltip": null,
            "layout": "IPY_MODEL_9215146814684a9fb10ddfee06d6ada1",
            "placeholder": "​",
            "style": "IPY_MODEL_b2a9d90b82f242ad9acf76147a6a72a0",
            "value": "model.safetensors: 100%"
          }
        },
        "c3d7035fc2144aeda9d54fe6d9263803": {
          "model_module": "@jupyter-widgets/controls",
          "model_name": "FloatProgressModel",
          "model_module_version": "1.5.0",
          "state": {
            "_dom_classes": [],
            "_model_module": "@jupyter-widgets/controls",
            "_model_module_version": "1.5.0",
            "_model_name": "FloatProgressModel",
            "_view_count": null,
            "_view_module": "@jupyter-widgets/controls",
            "_view_module_version": "1.5.0",
            "_view_name": "ProgressView",
            "bar_style": "success",
            "description": "",
            "description_tooltip": null,
            "layout": "IPY_MODEL_998d8e0acd0f4f19b9a89b37f470e114",
            "max": 1421700479,
            "min": 0,
            "orientation": "horizontal",
            "style": "IPY_MODEL_4925c2f936b64744b90c2e49e4398b2a",
            "value": 1421700479
          }
        },
        "3bb9539fee474b0ab4db82b5cbf46163": {
          "model_module": "@jupyter-widgets/controls",
          "model_name": "HTMLModel",
          "model_module_version": "1.5.0",
          "state": {
            "_dom_classes": [],
            "_model_module": "@jupyter-widgets/controls",
            "_model_module_version": "1.5.0",
            "_model_name": "HTMLModel",
            "_view_count": null,
            "_view_module": "@jupyter-widgets/controls",
            "_view_module_version": "1.5.0",
            "_view_name": "HTMLView",
            "description": "",
            "description_tooltip": null,
            "layout": "IPY_MODEL_a2b24f0b2868484fbd1219dfea8f4d1a",
            "placeholder": "​",
            "style": "IPY_MODEL_f84071ad8c044ba2a8884fb972d47e16",
            "value": " 1.42G/1.42G [00:15&lt;00:00, 201MB/s]"
          }
        },
        "8a11b601bf424ed4801ccf684383dbdd": {
          "model_module": "@jupyter-widgets/base",
          "model_name": "LayoutModel",
          "model_module_version": "1.2.0",
          "state": {
            "_model_module": "@jupyter-widgets/base",
            "_model_module_version": "1.2.0",
            "_model_name": "LayoutModel",
            "_view_count": null,
            "_view_module": "@jupyter-widgets/base",
            "_view_module_version": "1.2.0",
            "_view_name": "LayoutView",
            "align_content": null,
            "align_items": null,
            "align_self": null,
            "border": null,
            "bottom": null,
            "display": null,
            "flex": null,
            "flex_flow": null,
            "grid_area": null,
            "grid_auto_columns": null,
            "grid_auto_flow": null,
            "grid_auto_rows": null,
            "grid_column": null,
            "grid_gap": null,
            "grid_row": null,
            "grid_template_areas": null,
            "grid_template_columns": null,
            "grid_template_rows": null,
            "height": null,
            "justify_content": null,
            "justify_items": null,
            "left": null,
            "margin": null,
            "max_height": null,
            "max_width": null,
            "min_height": null,
            "min_width": null,
            "object_fit": null,
            "object_position": null,
            "order": null,
            "overflow": null,
            "overflow_x": null,
            "overflow_y": null,
            "padding": null,
            "right": null,
            "top": null,
            "visibility": null,
            "width": null
          }
        },
        "9215146814684a9fb10ddfee06d6ada1": {
          "model_module": "@jupyter-widgets/base",
          "model_name": "LayoutModel",
          "model_module_version": "1.2.0",
          "state": {
            "_model_module": "@jupyter-widgets/base",
            "_model_module_version": "1.2.0",
            "_model_name": "LayoutModel",
            "_view_count": null,
            "_view_module": "@jupyter-widgets/base",
            "_view_module_version": "1.2.0",
            "_view_name": "LayoutView",
            "align_content": null,
            "align_items": null,
            "align_self": null,
            "border": null,
            "bottom": null,
            "display": null,
            "flex": null,
            "flex_flow": null,
            "grid_area": null,
            "grid_auto_columns": null,
            "grid_auto_flow": null,
            "grid_auto_rows": null,
            "grid_column": null,
            "grid_gap": null,
            "grid_row": null,
            "grid_template_areas": null,
            "grid_template_columns": null,
            "grid_template_rows": null,
            "height": null,
            "justify_content": null,
            "justify_items": null,
            "left": null,
            "margin": null,
            "max_height": null,
            "max_width": null,
            "min_height": null,
            "min_width": null,
            "object_fit": null,
            "object_position": null,
            "order": null,
            "overflow": null,
            "overflow_x": null,
            "overflow_y": null,
            "padding": null,
            "right": null,
            "top": null,
            "visibility": null,
            "width": null
          }
        },
        "b2a9d90b82f242ad9acf76147a6a72a0": {
          "model_module": "@jupyter-widgets/controls",
          "model_name": "DescriptionStyleModel",
          "model_module_version": "1.5.0",
          "state": {
            "_model_module": "@jupyter-widgets/controls",
            "_model_module_version": "1.5.0",
            "_model_name": "DescriptionStyleModel",
            "_view_count": null,
            "_view_module": "@jupyter-widgets/base",
            "_view_module_version": "1.2.0",
            "_view_name": "StyleView",
            "description_width": ""
          }
        },
        "998d8e0acd0f4f19b9a89b37f470e114": {
          "model_module": "@jupyter-widgets/base",
          "model_name": "LayoutModel",
          "model_module_version": "1.2.0",
          "state": {
            "_model_module": "@jupyter-widgets/base",
            "_model_module_version": "1.2.0",
            "_model_name": "LayoutModel",
            "_view_count": null,
            "_view_module": "@jupyter-widgets/base",
            "_view_module_version": "1.2.0",
            "_view_name": "LayoutView",
            "align_content": null,
            "align_items": null,
            "align_self": null,
            "border": null,
            "bottom": null,
            "display": null,
            "flex": null,
            "flex_flow": null,
            "grid_area": null,
            "grid_auto_columns": null,
            "grid_auto_flow": null,
            "grid_auto_rows": null,
            "grid_column": null,
            "grid_gap": null,
            "grid_row": null,
            "grid_template_areas": null,
            "grid_template_columns": null,
            "grid_template_rows": null,
            "height": null,
            "justify_content": null,
            "justify_items": null,
            "left": null,
            "margin": null,
            "max_height": null,
            "max_width": null,
            "min_height": null,
            "min_width": null,
            "object_fit": null,
            "object_position": null,
            "order": null,
            "overflow": null,
            "overflow_x": null,
            "overflow_y": null,
            "padding": null,
            "right": null,
            "top": null,
            "visibility": null,
            "width": null
          }
        },
        "4925c2f936b64744b90c2e49e4398b2a": {
          "model_module": "@jupyter-widgets/controls",
          "model_name": "ProgressStyleModel",
          "model_module_version": "1.5.0",
          "state": {
            "_model_module": "@jupyter-widgets/controls",
            "_model_module_version": "1.5.0",
            "_model_name": "ProgressStyleModel",
            "_view_count": null,
            "_view_module": "@jupyter-widgets/base",
            "_view_module_version": "1.2.0",
            "_view_name": "StyleView",
            "bar_color": null,
            "description_width": ""
          }
        },
        "a2b24f0b2868484fbd1219dfea8f4d1a": {
          "model_module": "@jupyter-widgets/base",
          "model_name": "LayoutModel",
          "model_module_version": "1.2.0",
          "state": {
            "_model_module": "@jupyter-widgets/base",
            "_model_module_version": "1.2.0",
            "_model_name": "LayoutModel",
            "_view_count": null,
            "_view_module": "@jupyter-widgets/base",
            "_view_module_version": "1.2.0",
            "_view_name": "LayoutView",
            "align_content": null,
            "align_items": null,
            "align_self": null,
            "border": null,
            "bottom": null,
            "display": null,
            "flex": null,
            "flex_flow": null,
            "grid_area": null,
            "grid_auto_columns": null,
            "grid_auto_flow": null,
            "grid_auto_rows": null,
            "grid_column": null,
            "grid_gap": null,
            "grid_row": null,
            "grid_template_areas": null,
            "grid_template_columns": null,
            "grid_template_rows": null,
            "height": null,
            "justify_content": null,
            "justify_items": null,
            "left": null,
            "margin": null,
            "max_height": null,
            "max_width": null,
            "min_height": null,
            "min_width": null,
            "object_fit": null,
            "object_position": null,
            "order": null,
            "overflow": null,
            "overflow_x": null,
            "overflow_y": null,
            "padding": null,
            "right": null,
            "top": null,
            "visibility": null,
            "width": null
          }
        },
        "f84071ad8c044ba2a8884fb972d47e16": {
          "model_module": "@jupyter-widgets/controls",
          "model_name": "DescriptionStyleModel",
          "model_module_version": "1.5.0",
          "state": {
            "_model_module": "@jupyter-widgets/controls",
            "_model_module_version": "1.5.0",
            "_model_name": "DescriptionStyleModel",
            "_view_count": null,
            "_view_module": "@jupyter-widgets/base",
            "_view_module_version": "1.2.0",
            "_view_name": "StyleView",
            "description_width": ""
          }
        }
      }
    }
  },
  "nbformat": 4,
  "nbformat_minor": 0
}